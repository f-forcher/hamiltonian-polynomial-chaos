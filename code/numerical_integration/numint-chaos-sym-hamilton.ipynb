{
 "cells": [
  {
   "cell_type": "code",
   "execution_count": 196,
   "metadata": {},
   "outputs": [],
   "source": [
    "import chaospy as ch\n",
    "import sympy as sy\n",
    "import numpy as np"
   ]
  },
  {
   "cell_type": "code",
   "execution_count": 197,
   "metadata": {},
   "outputs": [],
   "source": [
    "sy.init_printing()"
   ]
  },
  {
   "cell_type": "code",
   "execution_count": 198,
   "metadata": {},
   "outputs": [],
   "source": [
    "# from dask.distributed import Client\n",
    "\n",
    "# client = Client(\"tcp://127.0.0.1:32871\")\n",
    "# client"
   ]
  },
  {
   "cell_type": "markdown",
   "metadata": {},
   "source": [
    "In this version of the FODO cell notebook, the integration is not performed symbolically at the start but numerically at each timestep. This avoids having to calculate the Hamiltonian before starting and allows users to try PC expansions with more parameters/higher order, or using more complex starting Hamiltonians.\n",
    "However, as it stands now it is slower than Monte Carlo.\n",
    "\n",
    "There is no energy comparison or exponential map available, since these require a symbolic Hamiltonian.\n",
    "\n",
    "At the end there are a few experiments about using code transform libraries such as `jax` to avoid this numerical calculation and instead use external numerical code such as `DA`. However, it seems the\n",
    "functions able to be differentiated have to have a very simple form. "
   ]
  },
  {
   "cell_type": "markdown",
   "metadata": {},
   "source": [
    "## Definitions"
   ]
  },
  {
   "cell_type": "code",
   "execution_count": 199,
   "metadata": {},
   "outputs": [],
   "source": [
    "q0, q1 = ch.variable(2)\n",
    "s0, s1, s2 = sy.symbols(\"s0 s1 s2\",real=True)\n",
    "k0, k1, k2, k3 = sy.symbols(\"k0 k1 k2 k3\") # D PCE degree\n",
    "D, O = sy.symbols(\"D O\", nonnegative=True, integer=True) # D dimension, O pce degree\n",
    "\n",
    "px, py, dl = sy.symbols('p_x p_y δ', real=True)\n",
    "x, y, z = sy.symbols('x y z', real=True)\n",
    "\n",
    "t = sy.symbols('t', real=True)\n",
    "\n",
    "Q = sy.IndexedBase('Q', shape=(D,O), real=True)\n",
    "P = sy.IndexedBase('P', shape=(D,O), real=True)\n",
    "\n",
    "# \"Abstract\" polynomial, psi(i, Xi) represents the ith orthogonal polynomial in Xi\n",
    "psi = sy.Function('ψ', real=True)\n",
    "\n",
    "ii = sy.Idx('ii')\n",
    "jj = sy.Idx('jj')"
   ]
  },
  {
   "cell_type": "markdown",
   "metadata": {},
   "source": [
    "## Hamiltonian of FODO cell:\n",
    "\\begin{equation}\n",
    "H = -\\sqrt{\\left( \\frac{1}{\\beta_0} +\\delta \\right)^2 - p_x^2 - p_y^2 - \\frac{1}{\\beta_0^2\\gamma_0^2}} \\, +\\, \\frac{1}{6} \\left( k_3x^3-k_2xy^2 \\right) \\,+\\, \\frac{\\delta}{\\beta_0}.\n",
    "\\end{equation}\n"
   ]
  },
  {
   "cell_type": "code",
   "execution_count": 200,
   "metadata": {},
   "outputs": [
    {
     "data": {
      "image/png": "[encoded data removed]",
      "text/latex": [
       "$\\displaystyle - \\frac{k_{2} x y^{2}}{6} + \\frac{k_{3} x^{3}}{6} - \\sqrt{- p_{x}^{2} - p_{y}^{2} + \\left(δ + \\frac{1}{β0}\\right)^{2} - \\frac{1}{β0^{2} γ0^{2}}} + \\frac{δ}{β0}$"
      ],
      "text/plain": [
       "                          ____________________________________     \n",
       "        2       3        ╱                        2                \n",
       "  k₂⋅x⋅y    k₃⋅x        ╱      2      2   ⎛    1 ⎞       1       δ \n",
       "- ─────── + ───── -    ╱   - pₓ  - p_y  + ⎜δ + ──⎟  - ───────  + ──\n",
       "     6        6       ╱                   ⎝    β0⎠      2   2    β0\n",
       "                    ╲╱                                β0 ⋅γ0       "
      ]
     },
     "execution_count": 200,
     "metadata": {},
     "output_type": "execute_result"
    }
   ],
   "source": [
    "s0, s1, b0, g0 = sy.symbols(\"s0 s1 β0 γ0\",real=True)\n",
    "gamma_def = 1/sy.sqrt(1-b0**2)\n",
    "test_multivar_expr = sy.sqrt(s0**2+s1**2)\n",
    "\n",
    "b0_value = 0.99\n",
    "\n",
    "#test_multivar_expr = sy.exp(s0+s1)\n",
    "#test_multivar_expr\n",
    "\n",
    "full_fodo_ham = -sy.sqrt((1/b0+dl)**2-px**2-py**2-1/(b0*g0)**2)+1/sy.Number(6)*(k3*x**3-k2*x*y**2)+dl/b0\n",
    "full_fodo_ham\n",
    "\n",
    "#https://stackoverflow.com/questions/22857162/multivariate-taylor-approximation-in-sympy\n",
    "# test_order = 3\n",
    "# test_raw_exp = sy.expand(test_multivar_expr.series(s0, 0, test_order).removeO().series(s1, 0, test_order).removeO())\n",
    "# test_raw_exp"
   ]
  },
  {
   "cell_type": "code",
   "execution_count": 201,
   "metadata": {},
   "outputs": [
    {
     "data": {
      "image/png": "[encoded data removed]",
      "text/latex": [
       "$\\displaystyle \\frac{100 \\sqrt{199}}{199}$"
      ],
      "text/plain": [
       "100⋅√199\n",
       "────────\n",
       "  199   "
      ]
     },
     "execution_count": 201,
     "metadata": {},
     "output_type": "execute_result"
    }
   ],
   "source": [
    "gamma_def.subs(b0, 1-1/sy.Number(100))"
   ]
  },
  {
   "cell_type": "code",
   "execution_count": 202,
   "metadata": {},
   "outputs": [],
   "source": [
    "# https://stackoverflow.com/a/63850672\n",
    "def Taylor_polynomial_sympy(function_expression, variable_list, evaluation_point, degree):\n",
    "    \"\"\"\n",
    "    Mathematical formulation reference:\n",
    "    https://math.libretexts.org/Bookshelves/Calculus/Supplemental_Modules_(Calculus)/Multivariable_Calculus/3%3A_Topics_in_Partial_Derivatives/Taylor__Polynomials_of_Functions_of_Two_Variables\n",
    "    :param function_expression: Sympy expression of the function\n",
    "    :param variable_list: list. All variables to be approximated (to be \"Taylorized\")\n",
    "    :param evaluation_point: list. Coordinates, where the function will be expressed\n",
    "    :param degree: int. Total degree of the Taylor polynomial\n",
    "    :return: Returns a Sympy expression of the Taylor series up to a given degree, of a given multivariate expression, approximated as a multivariate polynomial evaluated at the evaluation_point\n",
    "    \"\"\"\n",
    "    from sympy import factorial, Matrix, prod\n",
    "    import itertools\n",
    "\n",
    "    n_var = len(variable_list)\n",
    "    point_coordinates = [(i, j) for i, j in (zip(variable_list, evaluation_point))]  # list of tuples with variables and their evaluation_point coordinates, to later perform substitution\n",
    "\n",
    "    deriv_orders = list(itertools.product(range(degree + 1), repeat=n_var))  # list with exponentials of the partial derivatives\n",
    "    deriv_orders = [deriv_orders[i] for i in range(len(deriv_orders)) if sum(deriv_orders[i]) <= degree]  # Discarding some higher-order terms\n",
    "    n_terms = len(deriv_orders)\n",
    "    deriv_orders_as_input = [list(sum(list(zip(variable_list, deriv_orders[i])), ())) for i in range(n_terms)]  # Individual degree of each partial derivative, of each term\n",
    "\n",
    "    polynomial = 0\n",
    "    for i in range(n_terms):\n",
    "        partial_derivatives_at_point = function_expression.diff(*deriv_orders_as_input[i]).subs(point_coordinates)  # e.g. df/(dx*dy**2)\n",
    "        denominator = prod([factorial(j) for j in deriv_orders[i]])  # e.g. (1! * 2!)\n",
    "        distances_powered = prod([(Matrix(variable_list) - Matrix(evaluation_point))[j] ** deriv_orders[i][j] for j in range(n_var)])  # e.g. (x-x0)*(y-y0)**2\n",
    "        polynomial += partial_derivatives_at_point / denominator * distances_powered\n",
    "    return polynomial"
   ]
  },
  {
   "cell_type": "code",
   "execution_count": 203,
   "metadata": {},
   "outputs": [
    {
     "data": {
      "image/png": "[encoded data removed]",
      "text/latex": [
       "$\\displaystyle - \\frac{k_{2} x y^{2}}{6} + \\frac{k_{3} x^{3}}{6} + \\frac{p_{x}^{2}}{2 \\sqrt{\\frac{1}{β0^{2}} - \\frac{1}{β0^{2} γ0^{2}}}} - \\frac{p_{x}^{2} δ}{2 β0 \\left(\\frac{1}{β0^{2}} - \\frac{1}{β0^{2} γ0^{2}}\\right)^{\\frac{3}{2}}} + \\frac{p_{y}^{2}}{2 \\sqrt{\\frac{1}{β0^{2}} - \\frac{1}{β0^{2} γ0^{2}}}} - \\frac{p_{y}^{2} δ}{2 β0 \\left(\\frac{1}{β0^{2}} - \\frac{1}{β0^{2} γ0^{2}}\\right)^{\\frac{3}{2}}} + \\frac{δ^{2} \\left(-1 + \\frac{1}{β0^{2} \\left(\\frac{1}{β0^{2}} - \\frac{1}{β0^{2} γ0^{2}}\\right)}\\right)}{2 \\sqrt{\\frac{1}{β0^{2}} - \\frac{1}{β0^{2} γ0^{2}}}} + δ \\left(\\frac{1}{β0} - \\frac{1}{β0 \\sqrt{\\frac{1}{β0^{2}} - \\frac{1}{β0^{2} γ0^{2}}}}\\right) - \\sqrt{\\frac{1}{β0^{2}} - \\frac{1}{β0^{2} γ0^{2}}} + \\frac{δ^{3} \\left(1 - \\frac{1}{β0^{2} \\left(\\frac{1}{β0^{2}} - \\frac{1}{β0^{2} γ0^{2}}\\right)}\\right)}{2 β0 \\left(\\frac{1}{β0^{2}} - \\frac{1}{β0^{2} γ0^{2}}\\right)^{\\frac{3}{2}}}$"
      ],
      "text/plain": [
       "                                                                              \n",
       "                                                                              \n",
       "                                                                              \n",
       "                                                                              \n",
       "        2       3              2                        2                     \n",
       "  k₂⋅x⋅y    k₃⋅x             pₓ                       pₓ ⋅δ                   \n",
       "- ─────── + ───── + ────────────────────── - ─────────────────────── + ───────\n",
       "     6        6            _______________                       3/2          \n",
       "                          ╱  1       1            ⎛ 1       1   ⎞            ╱\n",
       "                    2⋅   ╱  ─── - ───────    2⋅β0⋅⎜─── - ───────⎟      2⋅   ╱ \n",
       "                        ╱     2     2   2         ⎜  2     2   2⎟          ╱  \n",
       "                      ╲╱    β0    β0 ⋅γ0          ⎝β0    β0 ⋅γ0 ⎠        ╲╱   \n",
       "\n",
       "                                             2 ⎛              1         ⎞     \n",
       "                                            δ ⋅⎜-1 + ───────────────────⎟     \n",
       "                                               ⎜       2 ⎛ 1       1   ⎞⎟     \n",
       "                                               ⎜     β0 ⋅⎜─── - ───────⎟⎟     \n",
       "     2                        2                ⎜         ⎜  2     2   2⎟⎟     \n",
       "  p_y                      p_y ⋅δ              ⎝         ⎝β0    β0 ⋅γ0 ⎠⎠     \n",
       "─────────────── - ─────────────────────── + ───────────────────────────── + δ⋅\n",
       "_______________                       3/2              _______________        \n",
       "  1       1            ⎛ 1       1   ⎞                ╱  1       1            \n",
       " ─── - ───────    2⋅β0⋅⎜─── - ───────⎟          2⋅   ╱  ─── - ───────         \n",
       "   2     2   2         ⎜  2     2   2⎟              ╱     2     2   2         \n",
       " β0    β0 ⋅γ0          ⎝β0    β0 ⋅γ0 ⎠            ╲╱    β0    β0 ⋅γ0          \n",
       "\n",
       "                                                         3 ⎛             1    \n",
       "                                                        δ ⋅⎜1 - ──────────────\n",
       "                                                           ⎜      2 ⎛ 1       \n",
       "                                                           ⎜    β0 ⋅⎜─── - ───\n",
       "                                      _______________      ⎜        ⎜  2     2\n",
       "⎛1               1           ⎞       ╱  1       1          ⎝        ⎝β0    β0 \n",
       "⎜── - ───────────────────────⎟ -    ╱  ─── - ───────  + ──────────────────────\n",
       "⎜β0           _______________⎟     ╱     2     2   2                          \n",
       "⎜            ╱  1       1    ⎟   ╲╱    β0    β0 ⋅γ0            ⎛ 1       1   ⎞\n",
       "⎜     β0⋅   ╱  ─── - ─────── ⎟                            2⋅β0⋅⎜─── - ───────⎟\n",
       "⎜          ╱     2     2   2 ⎟                                 ⎜  2     2   2⎟\n",
       "⎝        ╲╱    β0    β0 ⋅γ0  ⎠                                 ⎝β0    β0 ⋅γ0 ⎠\n",
       "\n",
       "     ⎞\n",
       "─────⎟\n",
       "1   ⎞⎟\n",
       "────⎟⎟\n",
       "   2⎟⎟\n",
       "⋅γ0 ⎠⎠\n",
       "──────\n",
       "3/2   \n",
       "      \n",
       "      \n",
       "      \n",
       "      "
      ]
     },
     "execution_count": 203,
     "metadata": {},
     "output_type": "execute_result"
    }
   ],
   "source": [
    "Taylor_polynomial_sympy(full_fodo_ham, [x,y,z,px,py,dl], [0,0,0,0,0,0], degree=3)"
   ]
  },
  {
   "cell_type": "code",
   "execution_count": 204,
   "metadata": {},
   "outputs": [
    {
     "data": {
      "image/png": "[encoded data removed]",
      "text/latex": [
       "$\\displaystyle - \\frac{k_{2} x y^{2}}{6} + \\frac{k_{3} x^{3}}{6} - \\frac{50 p_{x}^{2} δ}{99} + \\frac{p_{x}^{2}}{2} - \\frac{50 p_{y}^{2} δ}{99} + \\frac{p_{y}^{2}}{2} - \\frac{9950 δ^{3}}{970299} + \\frac{199 δ^{2}}{19602} - 1$"
      ],
      "text/plain": [
       "        2       3        2       2         2        2         3        2    \n",
       "  k₂⋅x⋅y    k₃⋅x    50⋅pₓ ⋅δ   pₓ    50⋅p_y ⋅δ   p_y    9950⋅δ    199⋅δ     \n",
       "- ─────── + ───── - ──────── + ─── - ───────── + ──── - ─────── + ────── - 1\n",
       "     6        6        99       2        99       2      970299   19602     "
      ]
     },
     "execution_count": 204,
     "metadata": {},
     "output_type": "execute_result"
    }
   ],
   "source": [
    "taylor_ham = Taylor_polynomial_sympy(full_fodo_ham, [x,y,z,px,py,dl], [0,0,0,0,0,0], degree=3) \\\n",
    "                .subs(g0,gamma_def).subs(b0,sy.nsimplify(b0_value))\n",
    "taylor_ham"
   ]
  },
  {
   "cell_type": "code",
   "execution_count": 205,
   "metadata": {},
   "outputs": [
    {
     "data": {
      "image/png": "[encoded data removed]",
      "text/latex": [
       "$\\displaystyle - \\frac{k_{2} x y^{2}}{6} + \\frac{k_{3} x^{3}}{6} + \\frac{p_{x}^{2}}{2} + \\frac{p_{y}^{2}}{2} + \\frac{199 δ^{2}}{19602} - 1$"
      ],
      "text/plain": [
       "        2       3     2      2        2    \n",
       "  k₂⋅x⋅y    k₃⋅x    pₓ    p_y    199⋅δ     \n",
       "- ─────── + ───── + ─── + ──── + ────── - 1\n",
       "     6        6      2     2     19602     "
      ]
     },
     "execution_count": 205,
     "metadata": {},
     "output_type": "execute_result"
    }
   ],
   "source": [
    "taylor_ham2 = Taylor_polynomial_sympy(full_fodo_ham, [px,py,dl], [0,0,0],  degree=2) \\\n",
    "                .subs(g0,gamma_def).subs(b0,sy.nsimplify(b0_value))\n",
    "taylor_ham2"
   ]
  },
  {
   "cell_type": "markdown",
   "metadata": {},
   "source": [
    "### Test accuracy"
   ]
  },
  {
   "cell_type": "code",
   "execution_count": 206,
   "metadata": {},
   "outputs": [
    {
     "name": "stdout",
     "output_type": "stream",
     "text": [
      "H:  -0.965901201174552\n",
      "H3:  -0.967756763636776\n",
      "H3_2:  -0.959593918987858\n",
      "Relative errors: \n",
      "H3:  0.192106859373098 %\n",
      "H3_2:  0.652994548409747 %\n"
     ]
    }
   ],
   "source": [
    "vf = 2#variables' multiplicative factor\n",
    "h_var_subs = [(x,vf*0.1),(y,vf*0.1),(px,vf*0.1),(py,vf*0.1),(dl,vf*0.1),(b0,b0_value),(k2,1),(k3,1)]\n",
    "ffh = full_fodo_ham.subs(g0,gamma_def).subs(h_var_subs)\n",
    "th = taylor_ham.subs(g0,gamma_def).subs(h_var_subs)\n",
    "th2 = taylor_ham2.subs(g0,gamma_def).subs(h_var_subs)\n",
    "\n",
    "print(\"H: \",ffh)\n",
    "print(\"H3: \",th)\n",
    "print(\"H3_2: \",th2)\n",
    "print(\"Relative errors: \")\n",
    "print(\"H3: \",  abs(1-th/ffh)*100, \"%\")\n",
    "print(\"H3_2: \",abs(1-th2/ffh)*100, \"%\")"
   ]
  },
  {
   "cell_type": "code",
   "execution_count": null,
   "metadata": {},
   "outputs": [],
   "source": []
  },
  {
   "cell_type": "markdown",
   "metadata": {},
   "source": [
    "## Polynomials\n",
    "### Chaospy to sympy"
   ]
  },
  {
   "cell_type": "code",
   "execution_count": 207,
   "metadata": {},
   "outputs": [
    {
     "data": {
      "text/plain": [
       "'0'"
      ]
     },
     "execution_count": 207,
     "metadata": {},
     "output_type": "execute_result"
    }
   ],
   "source": [
    "poly = 5*q0**2+4*q0+3*q1+2*q0*q1-1\n",
    "poly.names[0][1:]"
   ]
  },
  {
   "cell_type": "code",
   "execution_count": 208,
   "metadata": {},
   "outputs": [
    {
     "data": {
      "image/png": "[encoded data removed]",
      "text/latex": [
       "$\\displaystyle 5 s_{0}^{2} + 2 s_{0} s_{1} + 4 s_{0} + 3 s_{1} - 1$"
      ],
      "text/plain": [
       "    2                            \n",
       "5⋅s₀  + 2⋅s₀⋅s₁ + 4⋅s₀ + 3⋅s₁ - 1"
      ]
     },
     "execution_count": 208,
     "metadata": {},
     "output_type": "execute_result"
    }
   ],
   "source": [
    "terms = [poly.coefficients[j]*s0**poly.exponents[j,0]*s1**poly.exponents[j,1] \n",
    "         for j in range(len(poly.exponents))]\n",
    "poly_sympy = sum(terms)\n",
    "poly_sympy"
   ]
  },
  {
   "cell_type": "code",
   "execution_count": 209,
   "metadata": {},
   "outputs": [],
   "source": [
    "def ch_to_sy(ch_poly, norm = None):\n",
    "    sy_tolerance = 10**-10\n",
    "    num_vars = len(ch_poly.indeterminants)\n",
    "    num_terms = len(ch_poly.coefficients)\n",
    "    # Make vars\n",
    "    sy_vars = []\n",
    "    #print(ch_poly.names)\n",
    "    for ch_var_id in [ch_poly.names[i][1:] for i in range(num_vars)]:\n",
    "        #print(ch_var_id)\n",
    "        sy.var(f\"s{ch_var_id}\")\n",
    "        sy_vars.append(globals()[f\"s{ch_var_id}\"])\n",
    "    \n",
    "    terms = [ch_poly.coefficients[j]*sy.prod([sy_vars[i]**ch_poly.exponents[j,i] \n",
    "                          for i in range(num_vars)]) for j in range(num_terms)]\n",
    "    # nsimplify approximates the float numbers into simpler exact representations\n",
    "    # https://docs.sympy.org/latest/modules/simplify/simplify.html#nsimplify\n",
    "    if norm is None:\n",
    "        poly = sy.nsimplify(sum(terms), full=False, tolerance = sy_tolerance)\n",
    "    else:\n",
    "        poly = sy.nsimplify(sum(terms), full=False, tolerance = sy_tolerance) / \\\n",
    "        sy.sqrt(sy.nsimplify(norm, full=False, tolerance = sy_tolerance))\n",
    "    return poly"
   ]
  },
  {
   "cell_type": "markdown",
   "metadata": {},
   "source": [
    "### Gram-Schmidt directly in sympy"
   ]
  },
  {
   "cell_type": "code",
   "execution_count": null,
   "metadata": {},
   "outputs": [],
   "source": []
  },
  {
   "cell_type": "code",
   "execution_count": 210,
   "metadata": {},
   "outputs": [],
   "source": [
    "def sy_EV(integrand, density, domain):\n",
    "    out = sy.integrate(integrand * density, *domain)\n",
    "    return out"
   ]
  },
  {
   "cell_type": "code",
   "execution_count": 211,
   "metadata": {},
   "outputs": [],
   "source": [
    "from functools import reduce\n",
    "import operator\n",
    "def sympy_orthopoly_gs(order, pdfs, domain, normed=True):\n",
    "    \"\"\"\n",
    "    Make orthogonal polynomials directly in sympy.\n",
    "    Adapted from:\n",
    "        chaospy.readthedocs.io/en/master/_modules/chaospy/orthogonal/gram_schmidt.html#orth_gs\n",
    "    \n",
    "    order: Max polynomial order\n",
    "    pdfs: array of functions/pdfs P(Xi_i) for each germ\n",
    "    domain: only cartesian prod of germ intervals, some may be infinite.\n",
    "    \n",
    "    \"\"\"\n",
    "    n_vars = len(pdfs)\n",
    "    assert(n_vars==len(domain))\n",
    "    \n",
    "    if order == 0:\n",
    "            return ch_to_sy(ch.polynomial(1))\n",
    "    basis = ch.monomial(\n",
    "            0,\n",
    "            order+1,\n",
    "            names=ch.variable(n_vars).names,\n",
    "            graded=True,\n",
    "            reverse=True,\n",
    "            cross_truncation=1.,)\n",
    "    basis = list(ch_to_sy(basis))\n",
    "    #print(basis)\n",
    "    sy_vars = ch_to_sy(ch.variable(n_vars))\n",
    "    polynomials = [basis[0]]\n",
    "    \n",
    "    pdfs_expr = [pdfs[i](sy_vars[i]) \n",
    "                 for i in range(len(sy_vars))]\n",
    "    total_pdf_expr = reduce(operator.mul, pdfs_expr, 1)\n",
    "    \n",
    "    norms = [1]\n",
    "    for idx in range(1, len(basis)):\n",
    "        # orthogonalize polynomial:\n",
    "        for idy in range(idx):\n",
    "            orth = sy_EV(basis[idx]*polynomials[idy], total_pdf_expr, domain)\n",
    "            basis[idx] = basis[idx]-polynomials[idy]*orth/norms[idy]\n",
    "\n",
    "        norms_ = sy_EV(basis[idx]**2, total_pdf_expr, domain)\n",
    "\n",
    "        norms.append(1 if normed else norms_)\n",
    "        basis[idx] = basis[idx]/sy.sqrt(norms_) if normed else basis[idx]\n",
    "        polynomials.append(basis[idx])\n",
    "\n",
    "    return polynomials, norms"
   ]
  },
  {
   "cell_type": "markdown",
   "metadata": {},
   "source": [
    "### Tests"
   ]
  },
  {
   "cell_type": "code",
   "execution_count": 212,
   "metadata": {},
   "outputs": [],
   "source": [
    "#sy.var('x0:2')"
   ]
  },
  {
   "cell_type": "code",
   "execution_count": 213,
   "metadata": {},
   "outputs": [
    {
     "data": {
      "image/png": "[encoded data removed]",
      "text/latex": [
       "$\\displaystyle 5 s_{0}^{2} + 2 s_{0} s_{1} + 4 s_{0} + 3 s_{1} - 1$"
      ],
      "text/plain": [
       "    2                            \n",
       "5⋅s₀  + 2⋅s₀⋅s₁ + 4⋅s₀ + 3⋅s₁ - 1"
      ]
     },
     "execution_count": 213,
     "metadata": {},
     "output_type": "execute_result"
    }
   ],
   "source": [
    "ch_to_sy(poly, norm=None)\n"
   ]
  },
  {
   "cell_type": "code",
   "execution_count": 214,
   "metadata": {},
   "outputs": [
    {
     "data": {
      "image/png": "[encoded data removed]",
      "text/latex": [
       "$\\displaystyle \\left[ s_{0}, \\  s_{1}\\right]$"
      ],
      "text/plain": [
       "[s₀, s₁]"
      ]
     },
     "execution_count": 214,
     "metadata": {},
     "output_type": "execute_result"
    }
   ],
   "source": [
    "[globals()[f\"s{i}\"] for i in range(0,2)]"
   ]
  },
  {
   "cell_type": "code",
   "execution_count": 215,
   "metadata": {},
   "outputs": [
    {
     "data": {
      "image/png": "[encoded data removed]",
      "text/latex": [
       "$\\displaystyle 0.8928$"
      ],
      "text/plain": [
       "0.892800000000000"
      ]
     },
     "execution_count": 215,
     "metadata": {},
     "output_type": "execute_result"
    }
   ],
   "source": [
    "sy.sympify(2.976)*0.3"
   ]
  },
  {
   "cell_type": "code",
   "execution_count": 216,
   "metadata": {},
   "outputs": [
    {
     "data": {
      "text/plain": [
       "'123'"
      ]
     },
     "execution_count": 216,
     "metadata": {},
     "output_type": "execute_result"
    }
   ],
   "source": [
    "\"q123\"[1:]"
   ]
  },
  {
   "cell_type": "markdown",
   "metadata": {},
   "source": [
    "## Hamiltonian expansions"
   ]
  },
  {
   "cell_type": "markdown",
   "metadata": {},
   "source": [
    "### Definitions"
   ]
  },
  {
   "cell_type": "code",
   "execution_count": 217,
   "metadata": {},
   "outputs": [],
   "source": [
    "def gaussdensity(x, mu, sigma, numerical=False):\n",
    "    if numerical:\n",
    "        return 0.398942280401433*sy.exp(-0.5*((x-mu)/sigma)**2)\n",
    "    else:\n",
    "        return sy.Number(1)/(sigma*sy.sqrt(2*sy.pi))*sy.exp(-sy.Number(1)/2*((x-mu)/sigma)**2 )"
   ]
  },
  {
   "cell_type": "code",
   "execution_count": 218,
   "metadata": {},
   "outputs": [],
   "source": [
    "lowerb1 = sy.nsimplify(1.5)\n",
    "upperb1 = sy.nsimplify(3.5)\n",
    "distribution1 = ch.Uniform(lower=float(lowerb1), upper=float(upperb1))\n",
    "uniform_density1 = lambda xi: 1/(upperb1-lowerb1)\n",
    "\n",
    "# # GAUSS(3,1)\n",
    "# lowerb = -sy.oo\n",
    "# upperb = sy.oo\n",
    "# mu = 3\n",
    "# sigma = 1\n",
    "# distribution = ch.Normal(mu=mu, sigma=sigma)\n",
    "\n",
    "# # GAUSS(0,1)\n",
    "# lowerb2 = -sy.oo\n",
    "# upperb2 = sy.oo\n",
    "# mu = 0\n",
    "# sigma = 1\n",
    "# distribution2 = ch.Normal(mu=mu, sigma=sigma)\n",
    "\n",
    "lowerb2 = sy.nsimplify(3)\n",
    "upperb2 = sy.nsimplify(4)\n",
    "distribution2 = ch.Uniform(lower=float(lowerb2), upper=float(upperb2))\n",
    "uniform_density2 = lambda xi: 1/(upperb2-lowerb2)\n",
    "\n",
    "lowerb3 = sy.nsimplify(0.01)\n",
    "upperb3 = sy.nsimplify(0.04)\n",
    "distribution3 = ch.Uniform(lower=float(lowerb3), upper=float(upperb3))\n",
    "uniform_density3 = lambda xi: 1/(upperb3-lowerb3)\n",
    "\n",
    "\n",
    "#Multivar!\n",
    "ch_distribution_list = [distribution1, distribution2, distribution3]\n",
    "distribution = ch.J(*ch_distribution_list)\n",
    "sy_dist_pdf_list = [uniform_density1, uniform_density2, uniform_density3]\n",
    "sy_dist_pdf = lambda xi1, xi2, xi3: uniform_density1(xi1)*uniform_density2(xi2)*uniform_density3(xi3)\n",
    "sy_omega = [(s0,lowerb1,upperb1),(s1,lowerb2,upperb2),(s2,lowerb3,upperb3)] # Xi square domain for sympy integration\n",
    "#sy_distribution = sy.Product(var_distributions[i],(ii,0,)\n"
   ]
  },
  {
   "cell_type": "code",
   "execution_count": 219,
   "metadata": {},
   "outputs": [
    {
     "name": "stdout",
     "output_type": "stream",
     "text": [
      "[1.0 q2-0.025 q1-3.5 q0-2.5]\n"
     ]
    },
    {
     "data": {
      "image/png": "[encoded data removed]",
      "text/latex": [
       "$\\displaystyle 4$"
      ],
      "text/plain": [
       "4"
      ]
     },
     "execution_count": 219,
     "metadata": {},
     "output_type": "execute_result"
    }
   ],
   "source": [
    "polynomial_order = 1\n",
    "\n",
    "polynomial_expansion, poly_norms = ch.orth_ttr(polynomial_order, distribution, retall=True)\n",
    "\n",
    "num_germ_vars = 3\n",
    "#num_terms = polynomial_order+1\n",
    "num_polys = len(polynomial_expansion)\n",
    "\n",
    "print(polynomial_expansion)\n",
    "len(polynomial_expansion)"
   ]
  },
  {
   "cell_type": "code",
   "execution_count": 220,
   "metadata": {},
   "outputs": [
    {
     "data": {
      "text/plain": [
       "(polynomial([1.0, q1-3.5, q0-2.5]),\n",
       " array([1.        , 0.08333333, 0.33333333]))"
      ]
     },
     "execution_count": 220,
     "metadata": {},
     "output_type": "execute_result"
    }
   ],
   "source": [
    "ch.orth_gs(polynomial_order, distribution, retall=True)"
   ]
  },
  {
   "cell_type": "code",
   "execution_count": 221,
   "metadata": {},
   "outputs": [
    {
     "data": {
      "image/png": "[encoded data removed]",
      "text/latex": [
       "$\\displaystyle \\left[ 1, \\  \\frac{200 \\sqrt{3} \\left(s_{2} - \\frac{1}{40}\\right)}{3}, \\  2 \\sqrt{3} \\left(s_{1} - \\frac{7}{2}\\right), \\  \\sqrt{3} \\left(s_{0} - \\frac{5}{2}\\right)\\right]$"
      ],
      "text/plain": [
       "⎡   200⋅√3⋅(s₂ - 1/40)                                ⎤\n",
       "⎢1, ──────────────────, 2⋅√3⋅(s₁ - 7/2), √3⋅(s₀ - 5/2)⎥\n",
       "⎣           3                                         ⎦"
      ]
     },
     "execution_count": 221,
     "metadata": {},
     "output_type": "execute_result"
    }
   ],
   "source": [
    "sy_polys = [ch_to_sy(polynomial_expansion[i], poly_norms[i]) for i in range(num_polys)]\n",
    "#sy_polys = [ch_to_sy(polynomial_expansion[i], None) for i in range(num_polys)]\n",
    "\n",
    "\n",
    "#polynomial_expansion[3]\n",
    "sy_polys"
   ]
  },
  {
   "cell_type": "code",
   "execution_count": 222,
   "metadata": {},
   "outputs": [
    {
     "name": "stdout",
     "output_type": "stream",
     "text": [
      "True\n",
      "CPU times: user 410 ms, sys: 8.02 ms, total: 418 ms\n",
      "Wall time: 414 ms\n"
     ]
    },
    {
     "data": {
      "image/png": "[encoded data removed]",
      "text/latex": [
       "$\\displaystyle \\left[ 1, \\  1, \\  1, \\  1\\right]$"
      ],
      "text/plain": [
       "[1, 1, 1, 1]"
      ]
     },
     "execution_count": 222,
     "metadata": {},
     "output_type": "execute_result"
    }
   ],
   "source": [
    "%%time\n",
    "#[(s0,lowerb1,upperb1),(s1,lowerb1,upperb1)]\n",
    "orthpoly_test, orthpoly_norms = sympy_orthopoly_gs(polynomial_order, \n",
    "                                   sy_dist_pdf_list, \n",
    "                                   sy_omega)\n",
    "\n",
    "sy_omega = [(s0,lowerb1,upperb1),(s1,lowerb2,upperb2),(s2,lowerb3,upperb3)] \n",
    "orthpoly_test, orthpoly_norms = sympy_orthopoly_gs(polynomial_order, \n",
    "                                   sy_dist_pdf_list, \n",
    "                                   sy_omega)\n",
    "# orthpoly_test = sympy_orthopoly_gs(4, \n",
    "#                                    [uniform_density, uniform_density], \n",
    "#                                    [(s0,lowerb1,upperb1),(s1,lowerb1,upperb1)],\n",
    "#                                    normed=True)\n",
    "print(orthpoly_test == sy_polys)\n",
    "orthpoly_norms"
   ]
  },
  {
   "cell_type": "code",
   "execution_count": 223,
   "metadata": {},
   "outputs": [],
   "source": [
    "# print(len(orthpoly_test))\n",
    "# sy.integrate(orthpoly_test[19]*orthpoly_test[20] * sy_dist_pdf(s0,s1), *sy_omega)\n",
    "sy_polys = orthpoly_test\n",
    "poly_norms = orthpoly_norms\n",
    "#poly_norms = np.array([float(n) for n in orthpoly_norms])"
   ]
  },
  {
   "cell_type": "code",
   "execution_count": 224,
   "metadata": {},
   "outputs": [],
   "source": [
    "#ch_to_sy(polynomial_expansion[4], poly_norms[4])\n"
   ]
  },
  {
   "cell_type": "markdown",
   "metadata": {},
   "source": [
    "### Polynomials are orthogonal"
   ]
  },
  {
   "cell_type": "code",
   "execution_count": 225,
   "metadata": {},
   "outputs": [
    {
     "data": {
      "image/png": "[encoded data removed]",
      "text/latex": [
       "$\\displaystyle 1$"
      ],
      "text/plain": [
       "1"
      ]
     },
     "execution_count": 225,
     "metadata": {},
     "output_type": "execute_result"
    }
   ],
   "source": [
    "# Uniform\n",
    "sy.integrate(sy_polys[1]*sy_polys[1] * sy_dist_pdf(s0,s1,s2), *sy_omega)\n",
    "#sy.integrate(sy_dist_pdf(s0,s1), *sy_omega)\n",
    "\n",
    "# Gaussian\n",
    "#sy.integrate(sy_polys[3]*sy_polys[3] * gaussdensity(s0,mu,sigma) ,(s0,lowerb,upperb))"
   ]
  },
  {
   "cell_type": "markdown",
   "metadata": {},
   "source": [
    "### Hamiltonian"
   ]
  },
  {
   "cell_type": "code",
   "execution_count": 226,
   "metadata": {},
   "outputs": [
    {
     "name": "stdout",
     "output_type": "stream",
     "text": [
      "[1, 200*sqrt(3)*(s2 - 1/40)/3, 2*sqrt(3)*(s1 - 7/2), sqrt(3)*(s0 - 5/2)]\n"
     ]
    },
    {
     "data": {
      "image/png": "[encoded data removed]",
      "text/latex": [
       "$\\displaystyle 4$"
      ],
      "text/plain": [
       "4"
      ]
     },
     "execution_count": 226,
     "metadata": {},
     "output_type": "execute_result"
    }
   ],
   "source": [
    "# Uniform\n",
    "# lowerb = sy.nsimplify(1.5)\n",
    "# upperb = sy.nsimplify(3.5)\n",
    "# distribution = ch.Uniform(lower=float(lowerb), upper=float(upperb))\n",
    "# uniform_density = lambda xi: 1/(upperb-lowerb)\n",
    "\n",
    "# # Gaussian\n",
    "# # lowerb = -sy.oo\n",
    "# # upperb = sy.oo\n",
    "# # mu = 3\n",
    "# # sigma = 2\n",
    "# # distribution = ch.Normal(mu=mu, sigma=sigma)\n",
    "\n",
    "# polynomial_order = 4\n",
    "# num_terms = polynomial_order+1\n",
    "\n",
    "#polynomial_expansion, poly_norms = ch.orth_ttr(polynomial_order, distribution, retall=True)\n",
    "h_dims = 3 # Number of space dimensions, eg 3=x,y,z and 3 momenta px py pz \n",
    "\n",
    "# sy_norms = [sy.nsimplify(poly_norms[i]) for i in range(num_polys)]\n",
    "\n",
    "#sy_polys_orig_unnorm = [ch_to_sy(polynomial_expansion[i]) for i in range(num_terms)]\n",
    "# sy_polys_orig = [ch_to_sy(polynomial_expansion[i],poly_norms[i]) for i in range(num_polys)]\n",
    "sy_polys_orig = sy_polys\n",
    "sy_norms = poly_norms \n",
    "\n",
    "print(sy_polys_orig)\n",
    "\n",
    "#sy_norms\n",
    "len(sy_polys_orig)"
   ]
  },
  {
   "cell_type": "code",
   "execution_count": null,
   "metadata": {},
   "outputs": [],
   "source": []
  },
  {
   "cell_type": "code",
   "execution_count": 227,
   "metadata": {},
   "outputs": [],
   "source": [
    "# Hamiltonian\n",
    "def H1(q,p,k0):\n",
    "    return sy.Number(1)/2*p**2+sy.Number(1)/2*k0*q**2\n",
    "\n",
    "def H1_func(q,p,k0):\n",
    "    return 1/2*p**2+1/2*k0*q**2\n",
    "\n",
    "def H3(q,p,k0):\n",
    "    return sy.Number(1)/2*p**2 - sy.Number(1)/2*k0*q**2+sy.Number(1)/4*q**4\n",
    "\n",
    "def Hrel(q,p,k0):\n",
    "    return sy.sqrt(p**2+1) + sy.Number(1)/2*k0*q**2\n",
    "\n",
    "Hrel_taylor_sy = Taylor_polynomial_sympy(full_fodo_ham, [x,y,z,px,py,dl], [0,0,0,0,0,0], degree=3).subs(g0,gamma_def)\n",
    "def Hfodo(xv,yv,zv,pxv,pyv,dlv, k2v,k3v,b0v):\n",
    "    h_var_subs = [(x,xv),(y,yv),(z,zv),(px,pxv),(py,pyv),(dl,dlv),(b0,b0v),(k2,k2v),(k3,k3v)]\n",
    "    return Hrel_taylor_sy.subs(h_var_subs)\n",
    "# Hrel_taylor_num = sy.lambdify([x,y,z,px,py,pz], Hrel_taylor_sy, \n",
    "#                                dummify = None, modules=[\"scipy\", \"numpy\"])\n",
    "\n",
    "# Get concrete polynomial expansion\n",
    "def psic(i, *args):\n",
    "    #print(args)\n",
    "    # Should receive as many args as germ variables\n",
    "    orig_vars = [globals()[f\"s{j}\"] for j in range(len(args))]\n",
    "    varsubs = [(orig_vars[j], args[j]) for j in range(len(args))]\n",
    "    return sy_polys_orig[i].subs(varsubs)"
   ]
  },
  {
   "cell_type": "code",
   "execution_count": 228,
   "metadata": {},
   "outputs": [
    {
     "data": {
      "image/png": "[encoded data removed]",
      "text/latex": [
       "$\\displaystyle \\left[ {Q}_{0,0}, \\  {Q}_{0,1}, \\  {Q}_{0,2}, \\  {Q}_{0,3}, \\  {Q}_{1,0}, \\  {Q}_{1,1}, \\  {Q}_{1,2}, \\  {Q}_{1,3}, \\  {Q}_{2,0}, \\  {Q}_{2,1}, \\  {Q}_{2,2}, \\  {Q}_{2,3}, \\  {P}_{0,0}, \\  {P}_{0,1}, \\  {P}_{0,2}, \\  {P}_{0,3}, \\  {P}_{1,0}, \\  {P}_{1,1}, \\  {P}_{1,2}, \\  {P}_{1,3}, \\  {P}_{2,0}, \\  {P}_{2,1}, \\  {P}_{2,2}, \\  {P}_{2,3}\\right]$"
      ],
      "text/plain": [
       "[Q[0, 0], Q[0, 1], Q[0, 2], Q[0, 3], Q[1, 0], Q[1, 1], Q[1, 2], Q[1, 3], Q[2, \n",
       "0], Q[2, 1], Q[2, 2], Q[2, 3], P[0, 0], P[0, 1], P[0, 2], P[0, 3], P[1, 0], P[\n",
       "1, 1], P[1, 2], P[1, 3], P[2, 0], P[2, 1], P[2, 2], P[2, 3]]"
      ]
     },
     "execution_count": 228,
     "metadata": {},
     "output_type": "execute_result"
    }
   ],
   "source": [
    "### PCE Expansion\n",
    "\n",
    "#PCE germ variable xi\n",
    "xi0 = s0\n",
    "xi1 = s1\n",
    "xi2 = s2\n",
    "\n",
    "PCEvars_list = [Z[i,j] for Z in (Q,P) for i in range(h_dims) for j in range(num_polys)]\n",
    "PCEvars_list"
   ]
  },
  {
   "cell_type": "code",
   "execution_count": 229,
   "metadata": {},
   "outputs": [
    {
     "data": {
      "image/png": "[encoded data removed]",
      "text/latex": [
       "$\\displaystyle \\left[ 1, \\  \\frac{200 \\sqrt{3} \\left(s_{2} - \\frac{1}{40}\\right)}{3}, \\  2 \\sqrt{3} \\left(s_{1} - \\frac{7}{2}\\right), \\  \\sqrt{3} \\left(s_{0} - \\frac{5}{2}\\right)\\right]$"
      ],
      "text/plain": [
       "⎡   200⋅√3⋅(s₂ - 1/40)                                ⎤\n",
       "⎢1, ──────────────────, 2⋅√3⋅(s₁ - 7/2), √3⋅(s₀ - 5/2)⎥\n",
       "⎣           3                                         ⎦"
      ]
     },
     "execution_count": 229,
     "metadata": {},
     "output_type": "execute_result"
    }
   ],
   "source": [
    "Ham = Hfodo\n",
    "\n",
    "# Get subset of full PCE expansion, for parallelization\n",
    "def series_range(z_var, low=0, high=num_polys):\n",
    "    return sum([z_var[i]*psic(i,xi0,xi1,xi2) for i in range(low,high)])\n",
    "\n",
    "def series_range_ND(z_var, dim, low=0, high=num_polys):\n",
    "    return sum([z_var[dim,i]*psic(i,xi0,xi1,xi2) for i in range(low,high)])\n",
    "\n",
    "# qqcc = sum([Q[i]*psic(i,xi0,xi1) for i in range(num_polys)])\n",
    "# ppcc = sum([P[i]*psic(i,xi0,xi1) for i in range(num_polys)])\n",
    "\n",
    "qq_arr = [series_range_ND(Q, dim, 0, num_polys)#.evalf()\n",
    "              for dim in range(h_dims)]\n",
    "pp_arr = [series_range_ND(P, dim, 0, num_polys)#.evalf()\n",
    "              for dim in range(h_dims)]\n",
    "sy_polys_orig"
   ]
  },
  {
   "cell_type": "code",
   "execution_count": 230,
   "metadata": {
    "scrolled": true
   },
   "outputs": [
    {
     "name": "stdout",
     "output_type": "stream",
     "text": [
      "CPU times: user 533 ms, sys: 4.01 ms, total: 537 ms\n",
      "Wall time: 535 ms\n"
     ]
    }
   ],
   "source": [
    "%%time\n",
    "#Ham_poly = sy.Poly(Ham(q=qqcc,p=ppcc,k0=s0)*sy_dist_pdf(s0,s1).evalf().simplify(),PCEvars_list)\n",
    "#parallel_poly_from_expr\n",
    "Ham_poly = sy.Poly(Ham(xv=qq_arr[0],yv=qq_arr[1],zv=qq_arr[2],\n",
    "                       pxv=pp_arr[0],pyv=pp_arr[1],dlv=pp_arr[2], \n",
    "                       k2v=s0,\n",
    "                       k3v=s1,b0v=sy.nsimplify(b0_value)),PCEvars_list)\n",
    "#Ham_poly;\n",
    "#Ham_poly\n",
    "#Ham_poly2 = sy.Poly(Ham(q=qqcc,p=ppcc,k0=s0),[s0,s1])"
   ]
  },
  {
   "cell_type": "code",
   "execution_count": 231,
   "metadata": {
    "scrolled": true
   },
   "outputs": [],
   "source": [
    "#sum(Ham_poly.as_expr().args[:]) == Ham_poly.as_expr()\n",
    "#Ham_poly"
   ]
  },
  {
   "cell_type": "code",
   "execution_count": 232,
   "metadata": {
    "scrolled": true
   },
   "outputs": [
    {
     "name": "stdout",
     "output_type": "stream",
     "text": [
      "CPU times: user 1.46 ms, sys: 16 µs, total: 1.48 ms\n",
      "Wall time: 1.48 ms\n"
     ]
    }
   ],
   "source": [
    "%%time\n",
    "#sy.diff(H1(qqc,ppc,k0),Q[1])\n",
    "#sy.diff(H1(qqcc,ppcc,k0),Q[0])\n",
    "\n",
    "\n",
    "# # LONG! Integrate Hamiltonian step 1: substitute Polynomials in variables\n",
    "# # Times: 2h1m for O=5, ~3h for Ham3_2 O=3, ~5:55 for H3, O=3\n",
    "\n",
    "Ham_expr = Ham(xv=qq_arr[0],yv=qq_arr[1],zv=qq_arr[2],\n",
    "                       pxv=pp_arr[0],pyv=pp_arr[1],dlv=pp_arr[2], \n",
    "                       k2v=s0,\n",
    "                       k3v=s1,\n",
    "                       b0v=sy.nsimplify(b0_value))"
   ]
  },
  {
   "cell_type": "code",
   "execution_count": 233,
   "metadata": {
    "scrolled": true
   },
   "outputs": [],
   "source": [
    "#Ham_expr"
   ]
  },
  {
   "cell_type": "code",
   "execution_count": 234,
   "metadata": {
    "scrolled": true
   },
   "outputs": [
    {
     "name": "stdout",
     "output_type": "stream",
     "text": [
      "CPU times: user 3 µs, sys: 0 ns, total: 3 µs\n",
      "Wall time: 5.72 µs\n"
     ]
    }
   ],
   "source": [
    "%%time\n",
    "# # LONG! Continued, integrate Hamiltonian step 2: do integral\n",
    "#Htilde = sy.integrate(Ham_expr*sy_dist_pdf(s0,s1), *sy_omega)"
   ]
  },
  {
   "cell_type": "code",
   "execution_count": 235,
   "metadata": {
    "scrolled": true
   },
   "outputs": [],
   "source": [
    "#WRITE TO FILE\n",
    "# from pathlib import Path\n",
    "# Path(f\"Hhat_d{h_dims}_o{polynomial_order}_srepr.txt\").write_text(sy.srepr(Htilde))\n",
    "\n",
    "\n",
    "\n",
    "#READ FROM FILE\n",
    "# from pathlib import Path\n",
    "# Htilde_str = Path(f\"Hhat_d{h_dims}_o{polynomial_order}_srepr.txt\").read_text()\n",
    "# Htilde = sy.sympify(Htilde_str)\n",
    "#Htilde-Htilde2"
   ]
  },
  {
   "cell_type": "code",
   "execution_count": 236,
   "metadata": {
    "scrolled": true
   },
   "outputs": [],
   "source": [
    "# from pathlib import Path\n",
    "# Htilde_str = Path('Hhat_5_srepr.txt').read_text()\n",
    "# Htilde_str\n",
    "#Htilde"
   ]
  },
  {
   "cell_type": "code",
   "execution_count": 237,
   "metadata": {
    "scrolled": true
   },
   "outputs": [
    {
     "name": "stdout",
     "output_type": "stream",
     "text": [
      "CPU times: user 5 µs, sys: 0 ns, total: 5 µs\n",
      "Wall time: 8.82 µs\n"
     ]
    }
   ],
   "source": [
    "%%time\n",
    "#sy.srepr(Htilde)\n",
    "# Htilde_simp = sy.nsimplify(Htilde.evalf(),full=False,tolerance=1e-7)"
   ]
  },
  {
   "cell_type": "code",
   "execution_count": 238,
   "metadata": {
    "scrolled": true
   },
   "outputs": [],
   "source": [
    "#Htilde_simp.evalf()\n",
    "\n",
    "#WRITE TO FILE\n",
    "# from pathlib import Path\n",
    "# Path(f\"Hhat_SIMP_d{h_dims}_o{polynomial_order}_srepr.txt\").write_text(sy.srepr(Htilde_simp))\n",
    "\n",
    "\n",
    "\n",
    "#READ FROM FILE\n",
    "# from pathlib import Path\n",
    "# Htilde_simp_str = Path(f\"Hhat_SIMP_d{h_dims}_o{polynomial_order}_srepr.txt\").read_text()\n",
    "# Htilde_simp = sy.sympify(Htilde_simp_str)\n",
    "#Htilde_simp-Htilde_simp2"
   ]
  },
  {
   "cell_type": "code",
   "execution_count": null,
   "metadata": {
    "scrolled": true
   },
   "outputs": [],
   "source": []
  },
  {
   "cell_type": "code",
   "execution_count": 239,
   "metadata": {
    "scrolled": true
   },
   "outputs": [
    {
     "name": "stdout",
     "output_type": "stream",
     "text": [
      "CPU times: user 2 µs, sys: 0 ns, total: 2 µs\n",
      "Wall time: 5.48 µs\n"
     ]
    }
   ],
   "source": [
    "%%time\n",
    "# DASK VERSION\n",
    "# import dask as dk\n",
    "# #dk.config.set(scheduler='processes')\n",
    "\n",
    "# num_cores = 8\n",
    "# single_pieces_num = len(Ham_poly.as_expr().args)\n",
    "# pieces_per_thread = single_pieces_num // num_cores # TODO To make also for non perfect ratio!\n",
    "# remaining_pieces = single_pieces_num % num_cores\n",
    "# #pieces_per_thread = 1\n",
    "# Ham_poly_pieces = [sum(Ham_poly.as_expr().args[i*pieces_per_thread:(i+1)*pieces_per_thread]) \n",
    "#                    for i in range(num_cores)]\n",
    "# for r in range(remaining_pieces):\n",
    "#     Ham_poly_pieces[r] = Ham_poly_pieces[r] + Ham_poly.as_expr().args[num_cores*pieces_per_thread+r]\n",
    "    \n",
    "# #Ham_poly_pieces = Ham_poly.as_expr().args\n",
    "# Htilde_pieces = []\n",
    "# print(len(Ham_poly_pieces))\n",
    "# print()\n",
    "# print(single_pieces_num)\n",
    "# print(pieces_per_thread)\n",
    "# print(remaining_pieces)\n",
    "# Ham_poly_pieces;"
   ]
  },
  {
   "cell_type": "code",
   "execution_count": 240,
   "metadata": {
    "scrolled": true
   },
   "outputs": [],
   "source": [
    "# %%time\n",
    "# for i in range(len(Ham_poly_pieces)):\n",
    "#     Htilde_piece = dk.delayed(\n",
    "#         sy.integrate)(Ham_poly_pieces[i]*sy_dist_pdf(s0,s1), *sy_omega)\n",
    "#     Htilde_pieces.append(Htilde_piece)\n",
    "# Htilde2 = dk.delayed(sum)(Htilde_pieces)\n",
    "# Ht2 = Htilde2.compute()"
   ]
  },
  {
   "cell_type": "code",
   "execution_count": 241,
   "metadata": {},
   "outputs": [],
   "source": [
    "#Ht2"
   ]
  },
  {
   "cell_type": "code",
   "execution_count": 242,
   "metadata": {},
   "outputs": [],
   "source": [
    "#Htilde"
   ]
  },
  {
   "cell_type": "code",
   "execution_count": 243,
   "metadata": {},
   "outputs": [],
   "source": [
    "#Htilde-Ht2\n",
    "#Htilde == Ht2\n",
    "#sy.simplify(Htilde-Ht2)\n",
    "#sy.diff(Htilde,Q[0])"
   ]
  },
  {
   "cell_type": "code",
   "execution_count": 244,
   "metadata": {},
   "outputs": [],
   "source": [
    "#sy.diff(sy.integrate(H1(qq,pp,k0),k0),Q[ii])"
   ]
  },
  {
   "cell_type": "code",
   "execution_count": 245,
   "metadata": {},
   "outputs": [],
   "source": [
    "deriv_sign = {P: 1, Q: -1}\n",
    "\n",
    "#deriv_array_non_norm = [deriv_sign[Z]*sy.diff(Htilde,Z[i,j]) for Z in (P,Q) for i in range(h_dims) for j in range(num_polys)]\n",
    "deriv_array_non_norm = [deriv_sign[Z]*sy.diff(Ham_expr,Z[i,j]) for Z in (P,Q) for i in range(h_dims) for j in range(num_polys)]\n"
   ]
  },
  {
   "cell_type": "code",
   "execution_count": 246,
   "metadata": {},
   "outputs": [
    {
     "name": "stdout",
     "output_type": "stream",
     "text": [
      "24\n"
     ]
    },
    {
     "data": {
      "image/png": "[encoded data removed]",
      "text/latex": [
       "$\\displaystyle 0$"
      ],
      "text/plain": [
       "0"
      ]
     },
     "execution_count": 246,
     "metadata": {},
     "output_type": "execute_result"
    }
   ],
   "source": [
    "#print([sy_norms[i%num_terms] for i in range(2*num_terms)])\n",
    "\n",
    "##deriv_array = [deriv_array_non_norm[i]/sy_norms[i%num_terms] for i in range(2*num_terms)]\n",
    "deriv_array = deriv_array_non_norm\n",
    "print(len(deriv_array))\n",
    "deriv_array[-1]"
   ]
  },
  {
   "cell_type": "code",
   "execution_count": 247,
   "metadata": {},
   "outputs": [],
   "source": [
    "# sy.var(f\"Qf0:{num_polys}\", cls=sy.Function, real = True)\n",
    "# sy.var(f\"Pf0:{num_polys}\", cls=sy.Function, real = True)\n",
    "\n",
    "# funcs_list = [globals()[f\"Qf{i}\"](t) for i in range(num_polys)] + \\\n",
    "#              [globals()[f\"Pf{i}\"](t) for i in range(num_polys)]\n",
    "# subs_list_Q = [(Q[i], globals()[f\"Qf{i}\"](t)) for i in range(num_polys)]\n",
    "# subs_list_P = [(P[i], globals()[f\"Pf{i}\"](t)) for i in range(num_polys)]\n",
    "# subs_list = subs_list_Q + subs_list_P\n",
    "# print(subs_list)\n",
    "\n",
    "# deriv_array_with_functions = [deriv_array[i].subs(subs_list).simplify() for i in range(2*num_polys)]\n",
    "# equations_Q = [sy.Eq(sy.Derivative(globals()[f\"Qf{i}\"](t),t), deriv_array_with_functions[i]) for i in range(num_polys)]\n",
    "# equations_P = [sy.Eq(sy.Derivative(globals()[f\"Pf{i}\"](t),t), deriv_array_with_functions[num_polys+i]) for i in range(num_polys)]\n",
    "# equations = equations_Q+equations_P\n",
    "# for e in equations:\n",
    "#     sy.pprint(e)"
   ]
  },
  {
   "cell_type": "code",
   "execution_count": 248,
   "metadata": {},
   "outputs": [
    {
     "name": "stdout",
     "output_type": "stream",
     "text": [
      "[1, 1, 1, 1]\n",
      "[1/40, sqrt(3)/200, 0, 0, 1/20, 0, 0, 0, 0, 0, 0, 0, -1/100, 0, 0, 0, -1/100, 0, 0, 0, -1/100, 0, 0, 0]\n"
     ]
    },
    {
     "data": {
      "image/png": "[encoded data removed]",
      "text/latex": [
       "$\\displaystyle \\left[ 0.025, \\  0.008660254037844387, \\  0.0, \\  0.0, \\  0.05, \\  0.0, \\  0.0, \\  0.0, \\  0.0, \\  0.0, \\  0.0, \\  0.0, \\  -0.01, \\  0.0, \\  0.0, \\  0.0, \\  -0.01, \\  0.0, \\  0.0, \\  0.0, \\  -0.01, \\  0.0, \\  0.0, \\  0.0\\right]$"
      ],
      "text/plain": [
       "[0.025, 0.008660254037844387, 0.0, 0.0, 0.05, 0.0, 0.0, 0.0, 0.0, 0.0, 0.0, 0.\n",
       "0, -0.01, 0.0, 0.0, 0.0, -0.01, 0.0, 0.0, 0.0, -0.01, 0.0, 0.0, 0.0]"
      ]
     },
     "execution_count": 248,
     "metadata": {},
     "output_type": "execute_result"
    }
   ],
   "source": [
    "### Initial conditions\n",
    "# (Q(0)=1,P(0)=0)\n",
    "t0 = 0.\n",
    "\n",
    "#############\n",
    "# Numerical initcond\n",
    "# numeric_initconds=True\n",
    "# init_cond_q = [sy.nsimplify(0.05), sy.nsimplify(0.05), 0]\n",
    "# init_cond_p = [-sy.nsimplify(0.01), -sy.nsimplify(0.01), -sy.nsimplify(0.01)]\n",
    "#############\n",
    "\n",
    "#############\n",
    "# Stochastic initcond\n",
    "# GOOD SET!\n",
    "# numeric_initconds=False\n",
    "# init_cond_q = [sy.nsimplify(0.5)*xi1, sy.nsimplify(0.05), 0]\n",
    "# init_cond_p = [-sy.nsimplify(0.01), -sy.nsimplify(0.01), -sy.nsimplify(0.01)]\n",
    "#############\n",
    "\n",
    "#############\n",
    "# Stochastic initcond\n",
    "numeric_initconds=False\n",
    "init_cond_q = [xi2, sy.nsimplify(0.05), 0]\n",
    "init_cond_p = [-sy.nsimplify(0.01), -sy.nsimplify(0.01), -sy.nsimplify(0.01)]\n",
    "#############\n",
    "\n",
    "#Htilde = sy.integrate(Ham(q=qqcc,p=ppcc,k0=s0)*sy_dist_pdf(s0,s1), *sy_omega).simplify()\n",
    "\n",
    "#############\n",
    "# Numerical initcond\n",
    "print(sy_norms)\n",
    "init_cond_pce_q = [sy.integrate(init_cond_q[i]*psic(j,xi0,xi1,xi2)*sy_dist_pdf(xi0,xi1,xi2), *sy_omega)/sy_norms[j] for i in range(h_dims) for j in range(num_polys)]\n",
    "init_cond_pce_p = [sy.integrate(init_cond_p[i]*psic(j,xi0,xi1,xi2)*sy_dist_pdf(xi0,xi1,xi2), *sy_omega)/sy_norms[j] for i in range(h_dims) for j in range(num_polys)]\n",
    "\n",
    "#############\n",
    "\n",
    "init_cond_pce = init_cond_pce_q+init_cond_pce_p\n",
    "print(init_cond_pce)\n",
    "\n",
    "#init_cond_pce_sympy = {f(x0): x1}\n",
    "# init_cond_pce_sympy_q = {globals()[f\"Qf{i}\"](t0): init_cond_pce_q[i] for i in range(num_polys)}\n",
    "# init_cond_pce_sympy_p = {globals()[f\"Pf{i}\"](t0): init_cond_pce_p[i] for i in range(num_polys)}\n",
    "# init_cond_pce_sympy = {**init_cond_pce_sympy_q, **init_cond_pce_sympy_p}\n",
    "# init_cond_pce_sympy\n",
    "\n",
    "init_cond_pce = [float(init_cond_pce[i]) for i in range(len(init_cond_pce))]\n",
    "init_cond_pce\n",
    "# Htilde = sy.integrate(Ham(qqcc,ppcc,k0)*uniform_density(xi),(xi, lowerb, upperb))\n",
    "# Htilde\n"
   ]
  },
  {
   "cell_type": "markdown",
   "metadata": {},
   "source": [
    "## Numerical solution"
   ]
  },
  {
   "cell_type": "code",
   "execution_count": 249,
   "metadata": {},
   "outputs": [],
   "source": [
    "import scipy as sp\n",
    "import numpy as np"
   ]
  },
  {
   "cell_type": "code",
   "execution_count": null,
   "metadata": {},
   "outputs": [],
   "source": []
  },
  {
   "cell_type": "code",
   "execution_count": 250,
   "metadata": {},
   "outputs": [
    {
     "name": "stdout",
     "output_type": "stream",
     "text": [
      "[Q[0, 0], Q[0, 1], Q[0, 2], Q[0, 3], Q[1, 0], Q[1, 1], Q[1, 2], Q[1, 3], Q[2, 0], Q[2, 1], Q[2, 2], Q[2, 3], P[0, 0], P[0, 1], P[0, 2], P[0, 3], P[1, 0], P[1, 1], P[1, 2], P[1, 3], P[2, 0], P[2, 1], P[2, 2], P[2, 3]]\n",
      "shape abscissas:  (3, 64)\n"
     ]
    }
   ],
   "source": [
    "deriv_array\n",
    "#[sy.lambdify(t, deriv_array[i], modules=[\"scipy\", \"numpy\"]) for i in range(num_terms)] \n",
    "#from sympy.utilities.lambdify import lambdastr\n",
    "# pce_coeffs_var_list = [Q[i] for i in range(num_terms)] + \\\n",
    "#                       [P[i] for i in range(num_terms)]\n",
    "#pce_coeffs_var_list = [Z[i] for Z in (Q,P) for i in range(num_polys)]\n",
    "print(PCEvars_list)\n",
    "test = sy.lambdify(PCEvars_list, deriv_array[3], dummify = None, modules=[\"scipy\", \"numpy\"])\n",
    "#print(test(1.,2, 0, 0))\n",
    "\n",
    "#test_tuple = [1.,2, 0, 0]\n",
    "#print(test(*test_tuple))\n",
    "\n",
    "# Old ways:\n",
    "# deriv_array_numeric = [\n",
    "#     sy.lambdify(PCEvars_list, deriv_array[i].evalf(), dummify = None, modules=[\"scipy\", \"numpy\"]) \n",
    "#                       for i in range(len(deriv_array))]\n",
    "\n",
    "\n",
    "# test_num = sy.lambdify([[s0,s1],PCEvars_list],deriv_array[0].evalf(), modules=[\"scipy\", \"numpy\"])\n",
    "germs_list = [xi0,xi1,xi2]\n",
    "assert(len(germs_list) == num_germ_vars)\n",
    "quadrature_order = 3\n",
    "abscissas, weights = ch.generate_quadrature(order=quadrature_order, dist=distribution)\n",
    "print(\"shape abscissas: \", abscissas.shape)\n",
    "deriv_array_noE_lambdas = [sy.lambdify([germs_list,PCEvars_list], deriv_array[i].evalf(), modules=[\"scipy\", \"numpy\"]) for i in range(len(deriv_array))]\n",
    "deriv_array_numeric = lambda i, PCEvars, abscissas, weights: np.sum(weights*deriv_array_noE_lambdas[i](abscissas,PCEvars))\n",
    "\n",
    "#len(deriv_array_numeric)"
   ]
  },
  {
   "cell_type": "code",
   "execution_count": 251,
   "metadata": {},
   "outputs": [
    {
     "name": "stdout",
     "output_type": "stream",
     "text": [
      "def _lambdifygenerated(_Dummy_2624, _Dummy_2625):\n",
      "    [s0, s1, s2] = _Dummy_2624\n",
      "    [Dummy_2611, Dummy_2610, Dummy_2609, Dummy_2608, Dummy_2607, Dummy_2606, Dummy_2605, Dummy_2604, Dummy_2603, Dummy_2602, Dummy_2601, Dummy_2600, Dummy_2623, Dummy_2622, Dummy_2621, Dummy_2620, Dummy_2619, Dummy_2618, Dummy_2617, Dummy_2616, Dummy_2615, Dummy_2614, Dummy_2613, Dummy_2612] = _Dummy_2625\n",
      "    return (1.73205080756888*Dummy_2620*(s0 - 2.5) + 3.46410161513775*Dummy_2621*(s1 - 3.5) + 115.470053837925*Dummy_2622*(s2 - 0.025) + Dummy_2623 + (1.73205080756888*Dummy_2612*(s0 - 2.5) + 3.46410161513775*Dummy_2613*(s1 - 3.5) + 115.470053837925*Dummy_2614*(s2 - 0.025) + Dummy_2615)*(-1.74954627027159*Dummy_2620*(s0 - 2.5) - 3.49909254054319*Dummy_2621*(s1 - 3.5) - 116.636418018106*Dummy_2622*(s2 - 0.025) - 1.01010101010101*Dummy_2623))\n",
      "\n"
     ]
    },
    {
     "data": {
      "image/png": "[encoded data removed]",
      "text/latex": [
       "$\\displaystyle -0.010101010101010105$"
      ],
      "text/plain": [
       "-0.010101010101010105"
      ]
     },
     "execution_count": 251,
     "metadata": {},
     "output_type": "execute_result"
    }
   ],
   "source": [
    "import inspect\n",
    "print(inspect.getsource(deriv_array_noE_lambdas[0]))\n",
    "deriv_array_numeric(0,init_cond_pce, abscissas, weights)"
   ]
  },
  {
   "cell_type": "code",
   "execution_count": 252,
   "metadata": {},
   "outputs": [
    {
     "name": "stdout",
     "output_type": "stream",
     "text": [
      "[0.025, 0.008660254037844387, 0.0, 0.0, 0.05, 0.0, 0.0, 0.0, 0.0, 0.0, 0.0, 0.0, -0.01, 0.0, 0.0, 0.0, -0.01, 0.0, 0.0, 0.0, -0.01, 0.0, 0.0, 0.0]\n"
     ]
    },
    {
     "data": {
      "text/plain": [
       "array([-1.01010101e-02,  0.00000000e+00,  1.30104261e-18,  1.37134634e-18,\n",
       "       -1.01010101e-02,  0.00000000e+00,  1.30104261e-18,  1.37134634e-18,\n",
       "       -3.07126978e-04,  0.00000000e+00,  5.42101086e-20,  4.35957270e-20,\n",
       "       -1.83333333e-04, -7.57772228e-04, -1.01036297e-04,  2.40562612e-04,\n",
       "        1.04166667e-03,  3.60843918e-04, -1.08420217e-19,  2.40562612e-04,\n",
       "        0.00000000e+00,  0.00000000e+00,  0.00000000e+00,  0.00000000e+00])"
      ]
     },
     "execution_count": 252,
     "metadata": {},
     "output_type": "execute_result"
    }
   ],
   "source": [
    "def derivative_field(t, y, *args):\n",
    "    abscissas, weights = args\n",
    "    return np.array([deriv_array_numeric(i, y, abscissas, weights) for i in range(len(deriv_array_noE_lambdas))])\n",
    "print(init_cond_pce)\n",
    "derivative_field(0., init_cond_pce, abscissas, weights)\n",
    "#type(init_cond_pce[0])"
   ]
  },
  {
   "cell_type": "code",
   "execution_count": 257,
   "metadata": {},
   "outputs": [
    {
     "name": "stdout",
     "output_type": "stream",
     "text": [
      "CPU times: user 1min 41s, sys: 87.3 ms, total: 1min 41s\n",
      "Wall time: 1min 41s\n"
     ]
    },
    {
     "data": {
      "text/plain": [
       "array([[ 2.50000000e-02,  8.66025404e-03,  0.00000000e+00, ...,\n",
       "         0.00000000e+00,  0.00000000e+00,  0.00000000e+00],\n",
       "       [ 2.49191051e-02,  8.66022952e-03, -3.26606182e-09, ...,\n",
       "         0.00000000e+00,  0.00000000e+00,  0.00000000e+00],\n",
       "       [ 2.48381986e-02,  8.66015608e-03, -1.30390740e-08, ...,\n",
       "         0.00000000e+00,  0.00000000e+00,  0.00000000e+00],\n",
       "       ...,\n",
       "       [-6.70398472e-02,  8.18218799e-03, -2.65755273e-03, ...,\n",
       "         0.00000000e+00,  0.00000000e+00,  0.00000000e+00],\n",
       "       [-6.72099757e-02,  8.20316250e-03, -2.67163573e-03, ...,\n",
       "         0.00000000e+00,  0.00000000e+00,  0.00000000e+00],\n",
       "       [-6.73806166e-02,  8.22425674e-03, -2.68580260e-03, ...,\n",
       "         0.00000000e+00,  0.00000000e+00,  0.00000000e+00]])"
      ]
     },
     "execution_count": 257,
     "metadata": {},
     "output_type": "execute_result"
    }
   ],
   "source": [
    "%%time\n",
    "t0 = 0.\n",
    "tf = 8.\n",
    "t_span = (t0, tf)\n",
    "y0 = init_cond_pce\n",
    "\n",
    "time_steps = 1000\n",
    "tcoordinates = np.linspace(t_span[0], t_span[1], time_steps)\n",
    "sol = sp.integrate.solve_ivp(derivative_field, t_span, y0, method='DOP853', rtol=1e-11, atol=1e-11, max_step=1./1000, t_eval=tcoordinates, dense_output=True, events=None, vectorized=False, args=[abscissas, weights])\n",
    "z_approx_coeffs = sol.sol(tcoordinates).T\n",
    "z_approx_coeffs[:,:]"
   ]
  },
  {
   "cell_type": "code",
   "execution_count": 258,
   "metadata": {},
   "outputs": [
    {
     "data": {
      "text/plain": [
       "polynomial([0.008660254037844387*q2+0.02478349364905389])"
      ]
     },
     "execution_count": 258,
     "metadata": {},
     "output_type": "execute_result"
    }
   ],
   "source": [
    "x_approx  = ch.sum(polynomial_expansion*z_approx_coeffs[:,0*num_polys:1*num_polys], -1)\n",
    "y_approx  = ch.sum(polynomial_expansion*z_approx_coeffs[:,1*num_polys:2*num_polys], -1)\n",
    "z_approx  = ch.sum(polynomial_expansion*z_approx_coeffs[:,2*num_polys:3*num_polys], -1)\n",
    "px_approx = ch.sum(polynomial_expansion*z_approx_coeffs[:,3*num_polys:4*num_polys], -1)\n",
    "py_approx = ch.sum(polynomial_expansion*z_approx_coeffs[:,4*num_polys:5*num_polys], -1)\n",
    "dl_approx = ch.sum(polynomial_expansion*z_approx_coeffs[:,5*num_polys:6*num_polys], -1)\n",
    "x_approx[:1]"
   ]
  },
  {
   "cell_type": "code",
   "execution_count": 259,
   "metadata": {},
   "outputs": [
    {
     "data": {
      "text/plain": [
       "[array([0.025   , 0.024919, 0.024838, 0.024757, 0.024676]),\n",
       " array([7.5e-05, 7.5e-05, 7.5e-05, 7.5e-05, 7.5e-05])]"
      ]
     },
     "execution_count": 259,
     "metadata": {},
     "output_type": "execute_result"
    },
    {
     "data": {
      "image/png": "[encoded data removed]",
      "text/plain": [
       "<Figure size 432x288 with 1 Axes>"
      ]
     },
     "metadata": {
      "needs_background": "light"
     },
     "output_type": "display_data"
    }
   ],
   "source": [
    "from matplotlib import pyplot\n",
    "\n",
    "# x=0, y=1, z=2, px=3, py=4, dl=5\n",
    "variable_names = ['x', 'y', 'z', 'px', 'py', 'δ']\n",
    "plot_var_select = 0\n",
    "all_approx=[ x_approx,\n",
    "             y_approx,\n",
    "             z_approx,\n",
    "            px_approx,\n",
    "            py_approx,\n",
    "            dl_approx]\n",
    "\n",
    "mean_q = ch.E(all_approx[plot_var_select], distribution)\n",
    "variance_q = np.sum(\n",
    "    z_approx_coeffs[:,plot_var_select*num_polys+1:(plot_var_select+1)*num_polys]**2,-1)\n",
    "\n",
    "pyplot.xlabel(\"s\")\n",
    "pyplot.ylabel(variable_names[plot_var_select])\n",
    "#pyplot.axis([0, 10, 0, 2])\n",
    "pyplot.fill_between(tcoordinates, mean_q-variance_q**0.5,\n",
    "                    mean_q+variance_q**0.5, color=\"k\", alpha=0.3)\n",
    "pyplot.plot(tcoordinates, mean_q, \"k-\")\n",
    "\n",
    "[mean_q[:5].round(6), variance_q[:5].round(6)]\n"
   ]
  },
  {
   "cell_type": "markdown",
   "metadata": {},
   "source": [
    "## Monte Carlo plotting"
   ]
  },
  {
   "cell_type": "code",
   "execution_count": 260,
   "metadata": {},
   "outputs": [
    {
     "data": {
      "text/plain": [
       "numpy.ndarray"
      ]
     },
     "execution_count": 260,
     "metadata": {},
     "output_type": "execute_result"
    }
   ],
   "source": [
    "type(distribution.sample(200, rule='random'))"
   ]
  },
  {
   "cell_type": "code",
   "execution_count": 261,
   "metadata": {},
   "outputs": [
    {
     "data": {
      "image/png": "[encoded data removed]",
      "text/latex": [
       "$\\displaystyle - \\frac{k_{2} x y^{2}}{6} + \\frac{k_{3} x^{3}}{6} + \\frac{p_{x}^{2}}{2 \\sqrt{- \\frac{1 - β0^{2}}{β0^{2}} + \\frac{1}{β0^{2}}}} - \\frac{p_{x}^{2} δ}{2 β0 \\left(- \\frac{1 - β0^{2}}{β0^{2}} + \\frac{1}{β0^{2}}\\right)^{\\frac{3}{2}}} + \\frac{p_{y}^{2}}{2 \\sqrt{- \\frac{1 - β0^{2}}{β0^{2}} + \\frac{1}{β0^{2}}}} - \\frac{p_{y}^{2} δ}{2 β0 \\left(- \\frac{1 - β0^{2}}{β0^{2}} + \\frac{1}{β0^{2}}\\right)^{\\frac{3}{2}}} + \\frac{δ^{2} \\left(-1 + \\frac{1}{β0^{2} \\left(- \\frac{1 - β0^{2}}{β0^{2}} + \\frac{1}{β0^{2}}\\right)}\\right)}{2 \\sqrt{- \\frac{1 - β0^{2}}{β0^{2}} + \\frac{1}{β0^{2}}}} + δ \\left(\\frac{1}{β0} - \\frac{1}{β0 \\sqrt{- \\frac{1 - β0^{2}}{β0^{2}} + \\frac{1}{β0^{2}}}}\\right) - \\sqrt{- \\frac{1 - β0^{2}}{β0^{2}} + \\frac{1}{β0^{2}}} + \\frac{δ^{3} \\left(1 - \\frac{1}{β0^{2} \\left(- \\frac{1 - β0^{2}}{β0^{2}} + \\frac{1}{β0^{2}}\\right)}\\right)}{2 β0 \\left(- \\frac{1 - β0^{2}}{β0^{2}} + \\frac{1}{β0^{2}}\\right)^{\\frac{3}{2}}}$"
      ],
      "text/plain": [
       "                                                                              \n",
       "                                                                              \n",
       "                                                                              \n",
       "                                                                              \n",
       "                                                                              \n",
       "        2       3                2                          2                 \n",
       "  k₂⋅x⋅y    k₃⋅x               pₓ                         pₓ ⋅δ               \n",
       "- ─────── + ───── + ───────────────────────── - ───────────────────────── + ──\n",
       "     6        6             _________________                         3/2     \n",
       "                           ╱         2               ⎛        2      ⎞        \n",
       "                          ╱    1 - β0     1          ⎜  1 - β0     1 ⎟        \n",
       "                    2⋅   ╱   - ─────── + ───    2⋅β0⋅⎜- ─────── + ───⎟      2⋅\n",
       "                        ╱          2       2         ⎜      2       2⎟        \n",
       "                      ╲╱         β0      β0          ⎝    β0      β0 ⎠        \n",
       "\n",
       "                                                       2 ⎛               1    \n",
       "                                                      δ ⋅⎜-1 + ───────────────\n",
       "                                                         ⎜         ⎛        2 \n",
       "                                                         ⎜       2 ⎜  1 - β0  \n",
       "                                                         ⎜     β0 ⋅⎜- ─────── \n",
       "            2                          2                 ⎜         ⎜      2   \n",
       "         p_y                        p_y ⋅δ               ⎝         ⎝    β0    \n",
       "─────────────────────── - ───────────────────────── + ────────────────────────\n",
       "      _________________                         3/2              _____________\n",
       "     ╱         2               ⎛        2      ⎞                ╱         2   \n",
       "    ╱    1 - β0     1          ⎜  1 - β0     1 ⎟               ╱    1 - β0    \n",
       "   ╱   - ─────── + ───    2⋅β0⋅⎜- ─────── + ───⎟         2⋅   ╱   - ─────── + \n",
       "  ╱          2       2         ⎜      2       2⎟             ╱          2     \n",
       "╲╱         β0      β0          ⎝    β0      β0 ⎠           ╲╱         β0      \n",
       "\n",
       "      ⎞                                                                    3 ⎛\n",
       "──────⎟                                                                   δ ⋅⎜\n",
       "     ⎞⎟                                                                      ⎜\n",
       "   1 ⎟⎟                                                                      ⎜\n",
       "+ ───⎟⎟                                               _________________      ⎜\n",
       "    2⎟⎟                                              ╱         2             ⎜\n",
       "  β0 ⎠⎠     ⎛1                1             ⎞       ╱    1 - β0     1        ⎝\n",
       "─────── + δ⋅⎜── - ──────────────────────────⎟ -    ╱   - ─────── + ───  + ────\n",
       "____        ⎜β0            _________________⎟     ╱          2       2        \n",
       "            ⎜             ╱         2       ⎟   ╲╱         β0      β0         \n",
       " 1          ⎜            ╱    1 - β0     1  ⎟                                 \n",
       "───         ⎜     β0⋅   ╱   - ─────── + ─── ⎟                               2⋅\n",
       "  2         ⎜          ╱          2       2 ⎟                                 \n",
       "β0          ⎝        ╲╱         β0      β0  ⎠                                 \n",
       "\n",
       "              1          ⎞\n",
       "1 - ─────────────────────⎟\n",
       "        ⎛        2      ⎞⎟\n",
       "      2 ⎜  1 - β0     1 ⎟⎟\n",
       "    β0 ⋅⎜- ─────── + ───⎟⎟\n",
       "        ⎜      2       2⎟⎟\n",
       "        ⎝    β0      β0 ⎠⎠\n",
       "──────────────────────────\n",
       "                    3/2   \n",
       "   ⎛        2      ⎞      \n",
       "   ⎜  1 - β0     1 ⎟      \n",
       "β0⋅⎜- ─────── + ───⎟      \n",
       "   ⎜      2       2⎟      \n",
       "   ⎝    β0      β0 ⎠      "
      ]
     },
     "execution_count": 261,
     "metadata": {},
     "output_type": "execute_result"
    }
   ],
   "source": [
    "#q,p = sy.symbols('q, p')\n",
    "\n",
    "#Ham(q,p,k0)\n",
    "Hfodo(x,y,z,px,py,dl, k2,k3,b0)"
   ]
  },
  {
   "cell_type": "code",
   "execution_count": 262,
   "metadata": {},
   "outputs": [
    {
     "data": {
      "image/png": "[encoded data removed]",
      "text/latex": [
       "$\\displaystyle \\left[ - 1.01010101010101 p_{x} δ + 1.0 p_{x}, \\  - 1.01010101010101 p_{y} δ + 1.0 p_{y}, \\  - 0.505050505050505 p_{x}^{2} - 0.505050505050505 p_{y}^{2} - 0.0307637130410319 δ^{2} + 0.0203040506070811 δ, \\  \\frac{k_{2} y^{2}}{6} - \\frac{k_{3} x^{2}}{2}, \\  \\frac{k_{2} x y}{3}, \\  0\\right]$"
      ],
      "text/plain": [
       "⎡                                                                             \n",
       "⎢                                                                             \n",
       "⎢-1.01010101010101⋅pₓ⋅δ + 1.0⋅pₓ, -1.01010101010101⋅p_y⋅δ + 1.0⋅p_y, - 0.50505\n",
       "⎣                                                                             \n",
       "\n",
       "                                                                              \n",
       "             2                        2                       2               \n",
       "0505050505⋅pₓ  - 0.505050505050505⋅p_y  - 0.0307637130410319⋅δ  + 0.0203040506\n",
       "                                                                              \n",
       "\n",
       "              2       2           ⎤\n",
       "          k₂⋅y    k₃⋅x   k₂⋅x⋅y   ⎥\n",
       "070811⋅δ, ───── - ─────, ──────, 0⎥\n",
       "            6       2      3      ⎦"
      ]
     },
     "execution_count": 262,
     "metadata": {},
     "output_type": "execute_result"
    }
   ],
   "source": [
    "#origH_deriv_sign = {p: 1, q: -1}\n",
    "origH_deriv_sign = {x: -1, y: -1, z: -1, px: 1, py: 1, dl: 1}\n",
    "# The z array is switched, so that dx/dt = dH/dpx\n",
    "origH_deriv_array_non_norm = [origH_deriv_sign[z]*sy.diff(Ham(x,y,z,px,py,dl, k2,k3,b0_value),z) for z in (px,py,dl,x,y,z)]\n",
    "origH_deriv_array = origH_deriv_array_non_norm\n",
    "origH_deriv_array"
   ]
  },
  {
   "cell_type": "code",
   "execution_count": 263,
   "metadata": {},
   "outputs": [
    {
     "data": {
      "text/plain": [
       "<function _lambdifygenerated(x, y, z, p_x, p_y, δ, k2, k3, s2)>"
      ]
     },
     "execution_count": 263,
     "metadata": {},
     "output_type": "execute_result"
    }
   ],
   "source": [
    "origH_var_list = [x,y,z,px,py,dl]\n",
    "variating_params_list = [k2,k3,s2]\n",
    "origH_var_params_list = origH_var_list+variating_params_list\n",
    "origH_deriv_array_numeric = [sy.lambdify(origH_var_params_list, origH_deriv_array[i], \n",
    "                                         dummify = False, modules=[\"scipy\", \"numpy\"]) \n",
    "                              for i in range(len(origH_var_list))]\n",
    "origH_deriv_array_numeric[1]"
   ]
  },
  {
   "cell_type": "code",
   "execution_count": 264,
   "metadata": {},
   "outputs": [
    {
     "data": {
      "text/plain": [
       "array([ 0.        ,  0.        ,  0.        , -0.00333333,  0.00333333,\n",
       "        0.        ])"
      ]
     },
     "execution_count": 264,
     "metadata": {},
     "output_type": "execute_result"
    }
   ],
   "source": [
    "def origH_derivative_field(t, y, *params):\n",
    "    return np.array([origH_deriv_array_numeric[i](*y, *params) for i in range(len(origH_var_list))])\n",
    "test_tuple = (0.1,0.1,0, 0,0,0)\n",
    "origH_derivative_field(0, test_tuple, 1., 1., 1.)"
   ]
  },
  {
   "cell_type": "code",
   "execution_count": 265,
   "metadata": {},
   "outputs": [
    {
     "data": {
      "image/png": "[encoded data removed]",
      "text/latex": [
       "$\\displaystyle \\left[ 0.03836995313649789, \\  0.05, \\  0.0, \\  -0.01, \\  -0.01, \\  -0.01\\right]$"
      ],
      "text/plain": [
       "[0.03836995313649789, 0.05, 0.0, -0.01, -0.01, -0.01]"
      ]
     },
     "execution_count": 265,
     "metadata": {},
     "output_type": "execute_result"
    }
   ],
   "source": [
    "#t0 = 0.\n",
    "#tf = 1.5\n",
    "t_span = (t0, tf)\n",
    "y0 = init_cond_pce\n",
    "\n",
    "#time_steps = 10000\n",
    "tcoordinates = np.linspace(t_span[0], t_span[1], time_steps)\n",
    "\n",
    "#y0_ham = init_cond_pce\n",
    "n_samples = 200\n",
    "# Sample only from distribution 1 (k0 = s0 distribution)\n",
    "# param_samples = np.c_ [distribution1.sample(n_samples, rule='random'),\n",
    "#                        distribution1.sample(n_samples, rule='random')]\n",
    "xi0_samples = distribution1.sample(n_samples, rule='random')\n",
    "xi1_samples = distribution2.sample(n_samples, rule='random')\n",
    "xi2_samples = distribution3.sample(n_samples, rule='random')\n",
    "param_samples = np.c_ [xi0_samples,xi1_samples,xi2_samples]\n",
    "\n",
    "y0_ham = [[float(sy.sympify(init_cond_q[i]).subs([(s0,param_samples[j,0]), (s1,param_samples[j,1]), (s2,param_samples[j,2])])) for i in range(h_dims)] + \\\n",
    "            [float(sy.sympify(init_cond_p[i]).subs([(s0,param_samples[j,0]), (s1,param_samples[j,1]), (s1,param_samples[j,1]), (s2,param_samples[j,2])])) for i in range(h_dims)] for j in range(n_samples)]\n",
    "y0_ham[0]\n",
    "#param_samples"
   ]
  },
  {
   "cell_type": "code",
   "execution_count": 266,
   "metadata": {},
   "outputs": [
    {
     "data": {
      "image/png": "[encoded data removed]",
      "text/latex": [
       "$\\displaystyle \\left[ 0.02295438458426149, \\  0.05, \\  0.0, \\  -0.01, \\  -0.01, \\  -0.01\\right]$"
      ],
      "text/plain": [
       "[0.02295438458426149, 0.05, 0.0, -0.01, -0.01, -0.01]"
      ]
     },
     "execution_count": 266,
     "metadata": {},
     "output_type": "execute_result"
    }
   ],
   "source": [
    "#[distribution1.sample(n_samples, rule='random')\n",
    "y0_ham[2]"
   ]
  },
  {
   "cell_type": "code",
   "execution_count": 267,
   "metadata": {},
   "outputs": [
    {
     "name": "stdout",
     "output_type": "stream",
     "text": [
      "CPU times: user 8 µs, sys: 0 ns, total: 8 µs\n",
      "Wall time: 14.3 µs\n"
     ]
    }
   ],
   "source": [
    "%%time\n",
    "# Long!\n",
    "# Dask version\n",
    "# import dask as dk\n",
    "# solham_vals = np.zeros(shape=(time_steps,len(origH_var_list),n_samples))\n",
    "# solham_vals_list = []\n",
    "# for i in range(n_samples):\n",
    "#     solham = dk.delayed(sp.integrate.solve_ivp)(origH_derivative_field, t_span, y0_ham, args=(param_samples[i],), method='DOP853', rtol=1e-13, atol=1e-13, \n",
    "#                                     max_step=1/100, t_eval=tcoordinates, dense_output=True, events=None, vectorized=False)\n",
    "#     solham_vals_list.append(solham)\n",
    "# solham_vals_list = dk.compute(*solham_vals_list)"
   ]
  },
  {
   "cell_type": "code",
   "execution_count": 268,
   "metadata": {},
   "outputs": [
    {
     "name": "stdout",
     "output_type": "stream",
     "text": [
      "CPU times: user 5 µs, sys: 0 ns, total: 5 µs\n",
      "Wall time: 8.82 µs\n"
     ]
    }
   ],
   "source": [
    "%%time\n",
    "# for i in range(n_samples):\n",
    "#     solham_vals[:,:,i] = solham_vals_list[i].sol(tcoordinates).T"
   ]
  },
  {
   "cell_type": "code",
   "execution_count": 269,
   "metadata": {},
   "outputs": [
    {
     "name": "stdout",
     "output_type": "stream",
     "text": [
      "CPU times: user 1min 21s, sys: 14.9 ms, total: 1min 21s\n",
      "Wall time: 1min 21s\n"
     ]
    }
   ],
   "source": [
    "%%time\n",
    "# No dask\n",
    "import random\n",
    "solham_vals = np.zeros(shape=(time_steps,len(origH_var_list),n_samples))\n",
    "for i in range(n_samples):\n",
    "    #solham = sp.integrate.solve_ivp(origH_derivative_field, t_span, y0_ham[random.sample(range(n_samples),1)[0]], args=param_samples[i], \n",
    "    solham = sp.integrate.solve_ivp(origH_derivative_field, t_span, y0_ham[i], args=param_samples[i], \n",
    "                                method='DOP853', rtol=1e-13, atol=1e-13, \n",
    "                                    max_step=1/100, t_eval=tcoordinates, \n",
    "                                    dense_output=True, events=None, vectorized=False)\n",
    "    solham_vals[:,:,i] = solham.sol(tcoordinates).T"
   ]
  },
  {
   "cell_type": "code",
   "execution_count": 270,
   "metadata": {},
   "outputs": [
    {
     "data": {
      "text/plain": [
       "array([[ 3.83699531e-02,  5.00000000e-02,  0.00000000e+00,\n",
       "        -1.00000000e-02, -1.00000000e-02, -1.00000000e-02],\n",
       "       [ 3.82890236e-02,  4.99191668e-02, -2.45932364e-06,\n",
       "        -1.00100216e-02, -9.98621896e-03, -1.00000000e-02],\n",
       "       [ 3.82080132e-02,  4.98384449e-02, -4.91834554e-06,\n",
       "        -1.00199920e-02, -9.97248926e-03, -1.00000000e-02],\n",
       "       [ 3.81269224e-02,  4.97578338e-02, -7.37706800e-06,\n",
       "        -1.00299112e-02, -9.95881081e-03, -1.00000000e-02],\n",
       "       [ 3.80457515e-02,  4.96773331e-02, -9.83549333e-06,\n",
       "        -1.00397793e-02, -9.94518352e-03, -1.00000000e-02],\n",
       "       [ 3.79645010e-02,  4.95969425e-02, -1.22936238e-05,\n",
       "        -1.00495962e-02, -9.93160729e-03, -1.00000000e-02],\n",
       "       [ 3.78831714e-02,  4.95166615e-02, -1.47514615e-05,\n",
       "        -1.00593619e-02, -9.91808202e-03, -1.00000000e-02],\n",
       "       [ 3.78017629e-02,  4.94364897e-02, -1.72090088e-05,\n",
       "        -1.00690765e-02, -9.90460763e-03, -1.00000000e-02],\n",
       "       [ 3.77202760e-02,  4.93564267e-02, -1.96662677e-05,\n",
       "        -1.00787399e-02, -9.89118400e-03, -1.00000000e-02],\n",
       "       [ 3.76387112e-02,  4.92764720e-02, -2.21232404e-05,\n",
       "        -1.00883522e-02, -9.87781105e-03, -1.00000000e-02]])"
      ]
     },
     "execution_count": 270,
     "metadata": {},
     "output_type": "execute_result"
    }
   ],
   "source": [
    "solham_vals[:,0,:] # 0=x, 1=y, etc\n",
    "#np.mean(solham_vals[:,0,:],axis=1)\n",
    "np.shape(solham_vals)\n",
    "solham_vals[:10,:,0]"
   ]
  },
  {
   "cell_type": "code",
   "execution_count": 271,
   "metadata": {},
   "outputs": [
    {
     "data": {
      "text/plain": [
       "[array([0.025   , 0.024919, 0.024838, 0.024757, 0.024676, 0.024595,\n",
       "        0.024514, 0.024433, 0.024353, 0.024272, 0.024191, 0.02411 ,\n",
       "        0.024029, 0.023948, 0.023866, 0.023785, 0.023704, 0.023623,\n",
       "        0.023542, 0.023461, 0.02338 , 0.023299, 0.023218, 0.023137,\n",
       "        0.023056, 0.022975, 0.022894, 0.022812, 0.022731, 0.02265 ,\n",
       "        0.022569, 0.022488, 0.022407, 0.022326, 0.022244, 0.022163,\n",
       "        0.022082, 0.022001, 0.02192 , 0.021839, 0.021757, 0.021676,\n",
       "        0.021595, 0.021514, 0.021433, 0.021351, 0.02127 , 0.021189,\n",
       "        0.021108, 0.021027]),\n",
       " array([7.5e-05, 7.5e-05, 7.5e-05, 7.5e-05, 7.5e-05, 7.5e-05, 7.5e-05,\n",
       "        7.5e-05, 7.5e-05, 7.5e-05, 7.5e-05, 7.5e-05, 7.5e-05, 7.5e-05,\n",
       "        7.5e-05, 7.5e-05, 7.5e-05, 7.5e-05, 7.5e-05, 7.5e-05, 7.5e-05,\n",
       "        7.5e-05, 7.5e-05, 7.5e-05, 7.5e-05, 7.5e-05, 7.5e-05, 7.5e-05,\n",
       "        7.5e-05, 7.5e-05, 7.5e-05, 7.5e-05, 7.5e-05, 7.5e-05, 7.5e-05,\n",
       "        7.5e-05, 7.4e-05, 7.4e-05, 7.4e-05, 7.4e-05, 7.4e-05, 7.4e-05,\n",
       "        7.4e-05, 7.4e-05, 7.4e-05, 7.4e-05, 7.4e-05, 7.4e-05, 7.4e-05,\n",
       "        7.4e-05])]"
      ]
     },
     "execution_count": 271,
     "metadata": {},
     "output_type": "execute_result"
    },
    {
     "data": {
      "image/png": "[encoded data removed]",
      "text/plain": [
       "<Figure size 432x288 with 1 Axes>"
      ]
     },
     "metadata": {
      "needs_background": "light"
     },
     "output_type": "display_data"
    }
   ],
   "source": [
    "from matplotlib import pyplot\n",
    "\n",
    "q_vals = solham_vals[:,0,:]\n",
    "mean_q_mc = np.mean(solham_vals[:,0,:],axis=1)\n",
    "var_q_mc = np.var(solham_vals[:,0,:],axis=1, ddof=1)\n",
    "\n",
    "pyplot.xlabel(\"time\")\n",
    "pyplot.ylabel(\"q(t)\")\n",
    "#pyplot.axis([0, 10, 0, 2])\n",
    "pyplot.plot(tcoordinates, q_vals, \"-\", color=\"tab:blue\", lw=0.7, alpha=0.05)\n",
    "\n",
    "pyplot.fill_between(tcoordinates, mean_q_mc-var_q_mc**0.5,\n",
    "                    mean_q_mc+var_q_mc**0.5, color=\"tab:blue\", alpha=0.3)\n",
    "\n",
    "pyplot.plot(tcoordinates, mean_q_mc, \"-\", color=\"dodgerblue\", alpha=1, label=\"MC\")\n",
    "\n",
    "pyplot.fill_between(tcoordinates, mean_q-variance_q**0.5,\n",
    "                    mean_q+variance_q**0.5, color=\"tab:red\", alpha=0.3)\n",
    "\n",
    "#pyplot.plot(tcoordinates, q_approx(param_samples), \"-\", color=\"tab:red\", lw=0.7, alpha=0.05)\n",
    "\n",
    "#Averages\n",
    "pyplot.plot(tcoordinates, mean_q, \"-\", color='red', alpha=1, label=\"PCE\")\n",
    "\n",
    "ax = pyplot.gca()\n",
    "#ax.set(ylim=(-0.05, 0.5))\n",
    "pyplot.legend(loc=\"upper right\")\n",
    "pyplot.title(\"Long term PCE vs MC\")\n",
    "pyplot.savefig(f\"MonteCarlo.pdf\")\n",
    "\n",
    "[mean_q[:50].round(6), variance_q[:50].round(6)]"
   ]
  },
  {
   "cell_type": "code",
   "execution_count": 272,
   "metadata": {},
   "outputs": [],
   "source": [
    "#q_approx(3)"
   ]
  },
  {
   "cell_type": "markdown",
   "metadata": {},
   "source": [
    "## Point collocation unintrusive fit"
   ]
  },
  {
   "cell_type": "code",
   "execution_count": 273,
   "metadata": {},
   "outputs": [
    {
     "name": "stdout",
     "output_type": "stream",
     "text": [
      "(4,)\n",
      "(200, 3)\n",
      "(200, 6, 1000)\n",
      "(3, 200)\n"
     ]
    }
   ],
   "source": [
    "print(polynomial_expansion.shape)\n",
    "print(param_samples.shape)\n",
    "print(solham_vals.transpose([2,1,0]).shape)\n",
    "#allvar_samples = np.c_[param_samples[:,0], distribution2.sample(n_samples, rule='random')].T\n",
    "allvar_samples = param_samples.T\n",
    "print(allvar_samples.shape)"
   ]
  },
  {
   "cell_type": "code",
   "execution_count": 274,
   "metadata": {},
   "outputs": [],
   "source": [
    "#solham_vals"
   ]
  },
  {
   "cell_type": "code",
   "execution_count": 275,
   "metadata": {},
   "outputs": [],
   "source": [
    "x_solham_vals = solham_vals.transpose([2,1,0])[:,0,:]\n",
    "y_solham_vals = solham_vals.transpose([2,1,0])[:,1,:]\n",
    "z_solham_vals = solham_vals.transpose([2,1,0])[:,2,:]\n",
    "\n",
    "px_solham_vals = solham_vals.transpose([2,1,0])[:,3,:]\n",
    "py_solham_vals = solham_vals.transpose([2,1,0])[:,4,:]\n",
    "dl_solham_vals = solham_vals.transpose([2,1,0])[:,5,:]\n",
    "\n",
    "all_solham_vals = [x_solham_vals,\n",
    "                  y_solham_vals,\n",
    "                  z_solham_vals,\n",
    "                  px_solham_vals,\n",
    "                  py_solham_vals,\n",
    "                  dl_solham_vals]"
   ]
  },
  {
   "cell_type": "code",
   "execution_count": 276,
   "metadata": {},
   "outputs": [],
   "source": [
    "x_model_approximations = ch.fit_regression(polynomial_expansion, allvar_samples, x_solham_vals)\n",
    "y_model_approximations = ch.fit_regression(polynomial_expansion, allvar_samples, y_solham_vals)\n",
    "z_model_approximations = ch.fit_regression(polynomial_expansion, allvar_samples, z_solham_vals)\n",
    "\n",
    "px_model_approximations = ch.fit_regression(polynomial_expansion, allvar_samples, px_solham_vals)\n",
    "py_model_approximations = ch.fit_regression(polynomial_expansion, allvar_samples, py_solham_vals)\n",
    "dl_model_approximations = ch.fit_regression(polynomial_expansion, allvar_samples, dl_solham_vals)"
   ]
  },
  {
   "cell_type": "code",
   "execution_count": 277,
   "metadata": {},
   "outputs": [],
   "source": [
    "# all_model_approximations = [np.append(np.array(model_approximations[i].coefficients),\n",
    "#                             np.array(p_model_approximations[i].coefficients))\n",
    "#                            for i in range(1,time_steps)]"
   ]
  },
  {
   "cell_type": "code",
   "execution_count": 278,
   "metadata": {},
   "outputs": [],
   "source": [
    "# p_model_approximations[23]"
   ]
  },
  {
   "cell_type": "code",
   "execution_count": 279,
   "metadata": {},
   "outputs": [],
   "source": [
    "# len(pce_coeffs_var_list)"
   ]
  },
  {
   "cell_type": "code",
   "execution_count": 280,
   "metadata": {},
   "outputs": [
    {
     "data": {
      "text/plain": [
       "[array([0.025   , 0.024919, 0.024838, 0.024757, 0.024676]),\n",
       " array([7.5e-05, 7.5e-05, 7.5e-05, 7.5e-05, 7.5e-05])]"
      ]
     },
     "execution_count": 280,
     "metadata": {},
     "output_type": "execute_result"
    },
    {
     "data": {
      "image/png": "[encoded data removed]",
      "text/plain": [
       "<Figure size 432x288 with 1 Axes>"
      ]
     },
     "metadata": {
      "needs_background": "light"
     },
     "output_type": "display_data"
    }
   ],
   "source": [
    "#model_approximations\n",
    "from matplotlib import pyplot\n",
    "\n",
    "# x=0, y=1, z=2, px=3, py=4, dl=5\n",
    "#plot_var_select = 3\n",
    "all_model_approximations=[x_model_approximations,\n",
    "                      y_model_approximations,\n",
    "                      z_model_approximations,\n",
    "                      px_model_approximations,\n",
    "                      py_model_approximations,\n",
    "                      dl_model_approximations]\n",
    "\n",
    "q_vals = solham_vals[:,plot_var_select,:]\n",
    "mean_q_mc = np.mean(solham_vals[:,plot_var_select,:],axis=1)\n",
    "var_q_mc = np.var(solham_vals[:,plot_var_select,:],axis=1, ddof=1)\n",
    "\n",
    "unintr_mean_q = ch.E(\n",
    "        all_model_approximations[plot_var_select], distribution)  \n",
    "unintr_var_q  = ch.Var(\n",
    "        all_model_approximations[plot_var_select], distribution)\n",
    "\n",
    "\n",
    "pyplot.xlabel(\"s\")\n",
    "pyplot.ylabel(f\"{variable_names[plot_var_select]}(s)\")\n",
    "#pyplot.axis([0, 10, 0, 2])\n",
    "pyplot.plot(tcoordinates, q_vals, \"-\", color=\"tab:blue\", lw=0.7, alpha=0.05)\n",
    "\n",
    "pyplot.fill_between(tcoordinates, mean_q_mc-var_q_mc**0.5,\n",
    "                    mean_q_mc+var_q_mc**0.5, color=\"tab:blue\", alpha=0.3)\n",
    "\n",
    "pyplot.plot(tcoordinates, mean_q_mc, \"-\", color=\"dodgerblue\", alpha=1, label=\"MC\")\n",
    "\n",
    "\n",
    "#pyplot.plot(tcoordinates, q_approx(param_samples), \"-\", color=\"tab:red\", lw=0.7, alpha=0.05)\n",
    "\n",
    "\n",
    "#unintrusive\n",
    "pyplot.fill_between(tcoordinates, unintr_mean_q-unintr_var_q**0.5,\n",
    "                    unintr_mean_q+unintr_var_q**0.5, color=\"tab:green\", alpha=0.3)\n",
    "pyplot.plot(tcoordinates, unintr_mean_q, \"-\", color='limegreen', alpha=1, label=\"Unintr\")\n",
    "\n",
    "#intrusive\n",
    "pyplot.fill_between(tcoordinates, mean_q-variance_q**0.5,\n",
    "                    mean_q+variance_q**0.5, color=\"tab:red\", alpha=0.3)\n",
    "pyplot.plot(tcoordinates, mean_q, \"-\", color='red', alpha=1, label=\"Intr\")\n",
    "\n",
    "\n",
    "\n",
    "ax = pyplot.gca()\n",
    "#ax.set(ylim=(-0.05, 0.5))\n",
    "pyplot.legend(loc=\"upper right\")\n",
    "pyplot.title(\"Intrusive vs MC vs Unintrusive\")\n",
    "pyplot.savefig(f\"Unintrusive_fit_{variable_names[plot_var_select]}.pdf\")\n",
    "\n",
    "[mean_q[:5].round(6), variance_q[:5].round(6)]"
   ]
  },
  {
   "cell_type": "code",
   "execution_count": 281,
   "metadata": {},
   "outputs": [
    {
     "data": {
      "image/png": "[encoded data removed]",
      "text/latex": [
       "$\\displaystyle \\left( 24, \\  1000\\right)$"
      ],
      "text/plain": [
       "(24, 1000)"
      ]
     },
     "execution_count": 281,
     "metadata": {},
     "output_type": "execute_result"
    }
   ],
   "source": [
    "c_hat_tot = np.empty(shape=(0,time_steps))\n",
    "for i in range(h_dims*2):\n",
    "    phi = polynomial_expansion(*allvar_samples).T #allvar_samples, q_solham_vals\n",
    "    ptp = phi.T @ phi\n",
    "    pty = phi.T @ solham_vals.transpose([2,1,0])[:,i,:]\n",
    "    c_hat = np.linalg.inv(ptp) @ pty\n",
    "    c_hat_tot = np.r_[c_hat_tot,c_hat]\n",
    "c_hat_tot.shape"
   ]
  },
  {
   "cell_type": "code",
   "execution_count": 282,
   "metadata": {},
   "outputs": [],
   "source": [
    "# pty_p = phi.T @ p_solham_vals\n",
    "# c_hat_p = np.linalg.inv(ptp) @ pty_p\n",
    "# c_hat_p.shape"
   ]
  },
  {
   "cell_type": "code",
   "execution_count": 283,
   "metadata": {},
   "outputs": [
    {
     "data": {
      "text/plain": [
       "[array([0.025   , 0.024919, 0.024838, 0.024757, 0.024676]),\n",
       " array([7.5e-05, 7.5e-05, 7.5e-05, 7.5e-05, 7.5e-05])]"
      ]
     },
     "execution_count": 283,
     "metadata": {},
     "output_type": "execute_result"
    },
    {
     "data": {
      "image/png": "[encoded data removed]",
      "text/plain": [
       "<Figure size 432x288 with 1 Axes>"
      ]
     },
     "metadata": {
      "needs_background": "light"
     },
     "output_type": "display_data"
    }
   ],
   "source": [
    "pyplot.xlabel(\"coordinates\")\n",
    "pyplot.ylabel(\"model approximation\")\n",
    "#pyplot.axis([0, 10, 0, 2])\n",
    "# pyplot.fill_between(tcoordinates, mean_q-variance_q**0.5,\n",
    "#                     mean_q+variance_q**0.5, color=\"k\", alpha=0.3)\n",
    "# Todo why numpoly-1 dimensions in c_hat and not numpoly\n",
    "styles = ['solid', 'dotted', 'dashed', 'dashdot']\n",
    "colors = ['blue', 'orange', 'green', 'red', 'purple',\n",
    "          'brown', 'pink', 'gray', 'olive', 'cyan']\n",
    "for i in range(num_polys):\n",
    "    pyplot.plot(tcoordinates, c_hat_tot[3*plot_var_select+i,:], color=\"tab:green\", \n",
    "                label=\"\", \n",
    "                ls=styles[i%len(styles)], #c = f\"tab:{colors[i]}\", \n",
    "                alpha=0.8)\n",
    "    pyplot.plot(tcoordinates, z_approx_coeffs[:,3*plot_var_select+i],  color=\"tab:red\", \n",
    "                label=\"\", \n",
    "                ls=styles[i%len(styles)], #c = f\"tab:{colors[i]}\", \n",
    "                alpha=0.5)\n",
    "\n",
    "pyplot.legend(loc=\"upper right\")\n",
    "pyplot.title(\"Intrusive (red) vs Unintrusive (green) coefficients\")\n",
    "pyplot.savefig(f\"Intr_vs_Unintr_Qs.pdf\")\n",
    "\n",
    "[mean_q[:5].round(6), variance_q[:5].round(6)]"
   ]
  },
  {
   "cell_type": "code",
   "execution_count": 672,
   "metadata": {},
   "outputs": [
    {
     "data": {
      "image/png": "[encoded data removed]",
      "text/latex": [
       "$\\displaystyle \\left( 10000, \\  18\\right)$"
      ],
      "text/plain": [
       "(10000, 18)"
      ]
     },
     "execution_count": 672,
     "metadata": {},
     "output_type": "execute_result"
    }
   ],
   "source": [
    "#c_hat_tot = np.r_[c_hat,c_hat_p]\n",
    "z_approx_coeffs.shape"
   ]
  },
  {
   "cell_type": "code",
   "execution_count": 673,
   "metadata": {},
   "outputs": [
    {
     "data": {
      "image/png": "[encoded data removed]",
      "text/latex": [
       "$\\displaystyle \\left( 18, \\  10000\\right)$"
      ],
      "text/plain": [
       "(18, 10000)"
      ]
     },
     "execution_count": 673,
     "metadata": {},
     "output_type": "execute_result"
    }
   ],
   "source": [
    "c_hat_tot.shape"
   ]
  },
  {
   "cell_type": "markdown",
   "metadata": {},
   "source": [
    "## Various"
   ]
  },
  {
   "cell_type": "code",
   "execution_count": null,
   "metadata": {},
   "outputs": [],
   "source": [
    "test = s0**2\n",
    "test.subs([(s0,s1)])"
   ]
  },
  {
   "cell_type": "code",
   "execution_count": null,
   "metadata": {},
   "outputs": [],
   "source": [
    "psic(2,k0,s0)"
   ]
  },
  {
   "cell_type": "code",
   "execution_count": null,
   "metadata": {},
   "outputs": [],
   "source": [
    "t0 = sy.symbols(\"t0\", real=True)\n",
    "t1 = sy.symbols(\"t1\", real=True ,nonnegative=True)"
   ]
  },
  {
   "cell_type": "code",
   "execution_count": null,
   "metadata": {},
   "outputs": [],
   "source": [
    "Q[0] = sy.Function(\"Qf[0]\", real=True)"
   ]
  },
  {
   "cell_type": "code",
   "execution_count": null,
   "metadata": {},
   "outputs": [],
   "source": [
    "Qf0(t0)"
   ]
  },
  {
   "cell_type": "code",
   "execution_count": null,
   "metadata": {},
   "outputs": [],
   "source": [
    "sy.__version__"
   ]
  },
  {
   "cell_type": "code",
   "execution_count": null,
   "metadata": {},
   "outputs": [],
   "source": [
    "x = sy.symbols('x', real=True)\n",
    "EI1,EI2 = sy.symbols('EI1 EI2')\n",
    "u1,u2 = sy.symbols('u1 u2', cls=sy.Function)\n",
    "\n",
    "eq = [sy.Eq(EI1*sy.diff(u1(x),x), 12*x*u1(x) + 8*u2(x)), sy.Eq(EI2*sy.diff(u2(x),x), 21*u1(x) + 7*x*u2(x))]\n",
    "print(eq)\n",
    "print(sy.classify_ode(eq[0]))\n",
    "sol = sy.dsolve(eq)\n",
    "sol"
   ]
  },
  {
   "cell_type": "code",
   "execution_count": null,
   "metadata": {},
   "outputs": [],
   "source": [
    "del EI1,EI2,u1,u2,eq"
   ]
  },
  {
   "cell_type": "code",
   "execution_count": null,
   "metadata": {},
   "outputs": [],
   "source": [
    "{**{'d': 1, 'e': 2}, **{'c': 3}}"
   ]
  },
  {
   "cell_type": "code",
   "execution_count": null,
   "metadata": {},
   "outputs": [],
   "source": [
    "sy.derive_by_array"
   ]
  },
  {
   "cell_type": "code",
   "execution_count": null,
   "metadata": {},
   "outputs": [],
   "source": []
  },
  {
   "cell_type": "code",
   "execution_count": null,
   "metadata": {},
   "outputs": [],
   "source": [
    "sy.factorial(2)"
   ]
  },
  {
   "cell_type": "code",
   "execution_count": null,
   "metadata": {},
   "outputs": [],
   "source": [
    "q"
   ]
  },
  {
   "cell_type": "code",
   "execution_count": null,
   "metadata": {},
   "outputs": [],
   "source": [
    "sy.integrate(sy.exp(q**2+p**2),*origH_var_list)"
   ]
  },
  {
   "cell_type": "code",
   "execution_count": null,
   "metadata": {},
   "outputs": [],
   "source": [
    "origH_var_list"
   ]
  },
  {
   "cell_type": "code",
   "execution_count": null,
   "metadata": {},
   "outputs": [],
   "source": []
  },
  {
   "cell_type": "code",
   "execution_count": null,
   "metadata": {},
   "outputs": [],
   "source": [
    "sy.Number(1)/(sigma*sy.sqrt(2*sy.pi)).evalf()"
   ]
  },
  {
   "cell_type": "code",
   "execution_count": null,
   "metadata": {},
   "outputs": [],
   "source": [
    "gaussdensity(s0, mu, sigma, numerical=True).evalf()"
   ]
  },
  {
   "cell_type": "markdown",
   "metadata": {},
   "source": [
    "## Numpoly and Jax tests"
   ]
  },
  {
   "cell_type": "code",
   "execution_count": null,
   "metadata": {},
   "outputs": [],
   "source": [
    "import numpoly as ny\n",
    "import jax as jx\n",
    "import jax.numpy as jnp\n",
    "import numpy as np\n",
    "# from jax import grad, jit, vmap\n",
    "# from jax import random\n",
    "\n",
    "\n",
    "q0, q1, q2 = ch.variable(3)"
   ]
  },
  {
   "cell_type": "code",
   "execution_count": null,
   "metadata": {},
   "outputs": [],
   "source": [
    "pp = q0+q1**2-q2"
   ]
  },
  {
   "cell_type": "code",
   "execution_count": null,
   "metadata": {},
   "outputs": [],
   "source": [
    "ny.gradient(pp)"
   ]
  },
  {
   "cell_type": "code",
   "execution_count": null,
   "metadata": {},
   "outputs": [],
   "source": [
    "ch.E(q0,distribution)"
   ]
  },
  {
   "cell_type": "code",
   "execution_count": null,
   "metadata": {},
   "outputs": [],
   "source": [
    "H1_func(pp,pp,1)"
   ]
  },
  {
   "cell_type": "code",
   "execution_count": null,
   "metadata": {},
   "outputs": [],
   "source": [
    "dH1_func = jx.jit(jx.grad(H1_func,[0,1]))"
   ]
  },
  {
   "cell_type": "code",
   "execution_count": null,
   "metadata": {},
   "outputs": [],
   "source": [
    "dH1_func(1.,1.,0.5)[0]"
   ]
  },
  {
   "cell_type": "code",
   "execution_count": null,
   "metadata": {},
   "outputs": [],
   "source": [
    "print(H1_func(1.,3.,5.))\n",
    "print(H1_func(2.,4.,6.))\n",
    "H1_func(jnp.array([1.,2.]), jnp.array([3.,4.]), jnp.array([5.,6.]))\n"
   ]
  },
  {
   "cell_type": "markdown",
   "metadata": {},
   "source": [
    "### Integral derivative"
   ]
  },
  {
   "cell_type": "code",
   "execution_count": null,
   "metadata": {},
   "outputs": [],
   "source": [
    "def num_integral(func, points, weights):\n",
    "    return np.sum(weights*func(points))\n",
    "    "
   ]
  },
  {
   "cell_type": "code",
   "execution_count": 76,
   "metadata": {},
   "outputs": [
    {
     "name": "stdout",
     "output_type": "stream",
     "text": [
      "[[1.5        1.5        1.5        ... 3.5        3.5        3.5       ]\n",
      " [3.         3.00273905 3.0109262  ... 3.9890738  3.99726095 4.        ]]\n"
     ]
    }
   ],
   "source": [
    "abscissas, weights = ch.generate_quadrature(order=30, dist=distribution)\n",
    "print(abscissas)\n",
    "#print(weights)"
   ]
  },
  {
   "cell_type": "code",
   "execution_count": null,
   "metadata": {},
   "outputs": [],
   "source": [
    "func_args = np.r_[abscissas,np.array([[3.]*abscissas.shape[1]])]"
   ]
  },
  {
   "cell_type": "code",
   "execution_count": null,
   "metadata": {},
   "outputs": [],
   "source": [
    "H1_np = lambda arr: H1_func(arr[0,:], arr[1,:], arr[2,:])"
   ]
  },
  {
   "cell_type": "code",
   "execution_count": null,
   "metadata": {},
   "outputs": [],
   "source": [
    "%time\n",
    "int_out = num_integral(H1_np, func_args, weights)\n",
    "int_out"
   ]
  },
  {
   "cell_type": "code",
   "execution_count": null,
   "metadata": {},
   "outputs": [],
   "source": [
    "sy.integrate(H1(s0,s1,3)*sy_dist_pdf(s0,s1), *sy_omega).evalf()"
   ]
  },
  {
   "cell_type": "code",
   "execution_count": null,
   "metadata": {},
   "outputs": [],
   "source": [
    "int_out"
   ]
  },
  {
   "cell_type": "code",
   "execution_count": null,
   "metadata": {},
   "outputs": [],
   "source": [
    "dH1_func = jx.grad(num_integral,1)"
   ]
  },
  {
   "cell_type": "code",
   "execution_count": null,
   "metadata": {},
   "outputs": [],
   "source": [
    "dH1_func(H1_np, np.r_[abscissas,np.array([[5.]*abscissas.shape[1]])], weights)"
   ]
  },
  {
   "cell_type": "code",
   "execution_count": null,
   "metadata": {},
   "outputs": [],
   "source": [
    "sy.integrate(H1(s0,s1,3)*sy_dist_pdf(s0,s1), sy_omega[0]).evalf()"
   ]
  },
  {
   "cell_type": "code",
   "execution_count": null,
   "metadata": {},
   "outputs": [],
   "source": [
    "test_polyeval = lambda a,b,c: pp(a,b,c)"
   ]
  },
  {
   "cell_type": "code",
   "execution_count": null,
   "metadata": {},
   "outputs": [],
   "source": [
    "#import numpy as np\n",
    "pp_coeff = jnp.array(pp.coefficients)\n",
    "pp_expon = jnp.array(pp.exponents)\n",
    "pp_eval = jx.jit(lambda var_vals: jnp.sum(pp_coeff*jnp.prod(var_vals**pp_expon, -1)))\n",
    "pp_eval(jnp.array([[4.,2.,3.]]))\n",
    "\n",
    "pp_coeff = jnp.array(pp.coefficients)\n",
    "pp_expon = jnp.array(pp.exponents)\n",
    "pp_eval = jx.jit(lambda var_vals: jnp.sum(pp_coeff*jnp.prod(var_vals**pp_expon, -1)))\n",
    "pp_eval(jnp.array([[4.,2.,3.]]))"
   ]
  },
  {
   "cell_type": "code",
   "execution_count": null,
   "metadata": {},
   "outputs": [],
   "source": [
    "dpp_eval = jx.jit(jx.grad(pp_eval))\n",
    "dpp_eval(jnp.array([[4.,7.,3.]]))"
   ]
  },
  {
   "cell_type": "code",
   "execution_count": null,
   "metadata": {},
   "outputs": [],
   "source": [
    "ch.gradient(pp)(4.,7.,3.)"
   ]
  },
  {
   "cell_type": "code",
   "execution_count": null,
   "metadata": {},
   "outputs": [],
   "source": [
    "pp"
   ]
  },
  {
   "cell_type": "code",
   "execution_count": null,
   "metadata": {},
   "outputs": [],
   "source": [
    "ch.gradient(pp)(q1=7.)"
   ]
  },
  {
   "cell_type": "code",
   "execution_count": null,
   "metadata": {},
   "outputs": [],
   "source": [
    "pp(4.,2.,3.)"
   ]
  },
  {
   "cell_type": "code",
   "execution_count": null,
   "metadata": {},
   "outputs": [],
   "source": [
    "pp_coeff"
   ]
  },
  {
   "cell_type": "code",
   "execution_count": null,
   "metadata": {},
   "outputs": [],
   "source": [
    "pp_expon"
   ]
  },
  {
   "cell_type": "code",
   "execution_count": null,
   "metadata": {},
   "outputs": [],
   "source": [
    "H1_func(pp,pp,q0)"
   ]
  },
  {
   "cell_type": "code",
   "execution_count": null,
   "metadata": {},
   "outputs": [],
   "source": [
    "qs = ch.variable(20)"
   ]
  },
  {
   "cell_type": "code",
   "execution_count": null,
   "metadata": {},
   "outputs": [],
   "source": [
    "polynomial_expansion"
   ]
  },
  {
   "cell_type": "code",
   "execution_count": null,
   "metadata": {},
   "outputs": [],
   "source": [
    "ch.symbols(\"q100:110\")"
   ]
  },
  {
   "cell_type": "code",
   "execution_count": null,
   "metadata": {},
   "outputs": [],
   "source": [
    "qqnum = ch.sum(ch.symbols(f\"q100:{100+len(polynomial_expansion)}\")*polynomial_expansion)\n",
    "ppnum = ch.sum(ch.symbols(f\"q200:{200+len(polynomial_expansion)}\")*polynomial_expansion)"
   ]
  },
  {
   "cell_type": "code",
   "execution_count": null,
   "metadata": {},
   "outputs": [],
   "source": [
    "testdict = {'q0': 1.,'q1': 1.}\n",
    "qqnum(**testdict)(q100=q0)"
   ]
  },
  {
   "cell_type": "code",
   "execution_count": null,
   "metadata": {},
   "outputs": [],
   "source": [
    "%%time\n",
    "\n",
    "numpoly_H1 = H1_func(qqnum,ppnum,q0)\n",
    "#numpoly_H1"
   ]
  },
  {
   "cell_type": "code",
   "execution_count": null,
   "metadata": {},
   "outputs": [],
   "source": [
    "y0_polytest = [0.]*(2*num_polys)\n",
    "y0_polytest[0]=1.\n",
    "y0_polytest[3]=1.\n",
    "y0_polytest[4]=1.\n",
    "y0_polytest = np.array(y0_polytest)\n",
    "\n",
    "polyeval_vars_list   = [f\"q{var+i}\" for var in [100, 200] for i in range(num_polys)]\n",
    "q_polyeval_vars_list = polyeval_vars_list[0:num_polys]\n",
    "p_polyeval_vars_list = polyeval_vars_list[num_polys:2*num_polys]"
   ]
  },
  {
   "cell_type": "code",
   "execution_count": null,
   "metadata": {},
   "outputs": [],
   "source": [
    "q_y0_polytest = y0_polytest[0:num_polys]\n",
    "p_y0_polytest = y0_polytest[num_polys:2*num_polys]"
   ]
  },
  {
   "cell_type": "code",
   "execution_count": null,
   "metadata": {},
   "outputs": [],
   "source": [
    "q_test_polydict = dict(zip(q_polyeval_vars_list,q_y0_polytest))\n",
    "q_test_polydict"
   ]
  },
  {
   "cell_type": "code",
   "execution_count": null,
   "metadata": {},
   "outputs": [],
   "source": [
    "tqq = qqnum(**q_test_polydict)\n",
    "tqq.exponents\n",
    "# Non toglie dal polinomio le variabili sostituite..."
   ]
  },
  {
   "cell_type": "code",
   "execution_count": null,
   "metadata": {},
   "outputs": [],
   "source": [
    "# TODO finire\n",
    "@jx.jit\n",
    "def poly_eval(var_vals, coeff, expon):\n",
    "    return jnp.sum(coeff*jnp.prod(var_vals**expon, -1))\n",
    "dpoly_eval = jx.jit(jx.grad(poly_eval))\n",
    "poly_eval_lam = lambda var_vals: poly_eval(var_vals, tqq.coefficients, tqq.exponents)\n",
    "#poly_eval(jnp.array([3.,4.]),tqq.coefficients,tqq.exponents)\n",
    "poly_eval_lam(jnp.array([3.,4.,5.]))"
   ]
  },
  {
   "cell_type": "code",
   "execution_count": null,
   "metadata": {},
   "outputs": [],
   "source": [
    "def fast_num_derivative(t, y):\n",
    "    #keys_list = [\"a\", \"b\"]\n",
    "    q_polyexp_coeffs_dict = dict(zip(q_polyeval_vars_list, y[0:num_polys]))\n",
    "    p_polyexp_coeffs_dict = dict(zip(p_polyeval_vars_list, y[num_polys,2*num_polys]))\n",
    "    H1_QP = H1_func(qqnum(q_polyexp_coeffs_dict),ppnum(p_polyexp_coeffs_dict),q0)\n",
    "    dpoly_eval = jx.grad\n",
    "    out = num_integral(poly_eval(), \n",
    "                       abscissas, weights)\n",
    "    return out \n",
    "    #zi_coeffs_dict = dict(zip_iterator)"
   ]
  },
  {
   "cell_type": "code",
   "execution_count": null,
   "metadata": {},
   "outputs": [],
   "source": [
    "str(Htilde)"
   ]
  },
  {
   "cell_type": "code",
   "execution_count": null,
   "metadata": {},
   "outputs": [],
   "source": [
    "from pathlib import Path\n",
    "Htilde_str = Path('Hhat_5_srepr.txt').read_text()\n",
    "Htilde_str;"
   ]
  },
  {
   "cell_type": "code",
   "execution_count": null,
   "metadata": {},
   "outputs": [],
   "source": [
    "Htilde_asread = sy.sympify(Htilde_str)"
   ]
  },
  {
   "cell_type": "code",
   "execution_count": null,
   "metadata": {},
   "outputs": [],
   "source": [
    "Htilde_asread - Htilde"
   ]
  },
  {
   "cell_type": "code",
   "execution_count": null,
   "metadata": {},
   "outputs": [],
   "source": [
    "[(i,j) for i in range(10,13) for j in range(20,23)]"
   ]
  },
  {
   "cell_type": "code",
   "execution_count": null,
   "metadata": {},
   "outputs": [],
   "source": [
    "tttt = np.array([[1,2,3],[4,5,6],[7,8,9]])\n",
    "aaaa = np.array([1,2,3])\n",
    "aaaa[:6]"
   ]
  },
  {
   "cell_type": "code",
   "execution_count": null,
   "metadata": {},
   "outputs": [],
   "source": [
    "tttt = ch.monomial(\n",
    "            0,\n",
    "            5,\n",
    "            names=ch.variable(3).names,\n",
    "            graded=True,\n",
    "            reverse=True,\n",
    "            cross_truncation=1.,\n",
    "        )"
   ]
  },
  {
   "cell_type": "code",
   "execution_count": null,
   "metadata": {},
   "outputs": [],
   "source": [
    "tttt[1]"
   ]
  },
  {
   "cell_type": "code",
   "execution_count": null,
   "metadata": {},
   "outputs": [],
   "source": [
    "sy_dist_pdf(*ch_to_sy(numpoly.variable(2)))"
   ]
  },
  {
   "cell_type": "code",
   "execution_count": null,
   "metadata": {},
   "outputs": [],
   "source": [
    "ch_to_sy(tttt)"
   ]
  },
  {
   "cell_type": "code",
   "execution_count": null,
   "metadata": {},
   "outputs": [],
   "source": [
    "from functools import reduce\n",
    "import operator\n",
    "reduce(operator.mul, [s0,s1,s2,s2], 1)"
   ]
  },
  {
   "cell_type": "code",
   "execution_count": 281,
   "metadata": {},
   "outputs": [],
   "source": [
    "Hhat1 = sy.sympify(Path(f\"Hhat_d{3}_o{2}_srepr.txt\").read_text())\n",
    "#Hhat1"
   ]
  },
  {
   "cell_type": "code",
   "execution_count": 421,
   "metadata": {},
   "outputs": [
    {
     "data": {
      "text/plain": [
       "array([[5.e-324, 5.e-324]])"
      ]
     },
     "execution_count": 421,
     "metadata": {},
     "output_type": "execute_result"
    }
   ],
   "source": [
    "tttt = np.empty(shape=(1,2))\n",
    "tttt"
   ]
  },
  {
   "cell_type": "code",
   "execution_count": 530,
   "metadata": {},
   "outputs": [
    {
     "data": {
      "image/png": "[encoded data removed]",
      "text/latex": [
       "$\\displaystyle 3$"
      ],
      "text/plain": [
       "3"
      ]
     },
     "execution_count": 530,
     "metadata": {},
     "output_type": "execute_result"
    }
   ],
   "source": [
    "num_polys"
   ]
  },
  {
   "cell_type": "code",
   "execution_count": 608,
   "metadata": {},
   "outputs": [
    {
     "data": {
      "text/plain": [
       "True"
      ]
     },
     "execution_count": 608,
     "metadata": {},
     "output_type": "execute_result"
    }
   ],
   "source": [
    "'expansion_order' in globals()"
   ]
  },
  {
   "cell_type": "code",
   "execution_count": 214,
   "metadata": {},
   "outputs": [
    {
     "data": {
      "image/png": "[encoded data removed]",
      "text/latex": [
       "$\\displaystyle 3.0$"
      ],
      "text/plain": [
       "3.0"
      ]
     },
     "execution_count": 214,
     "metadata": {},
     "output_type": "execute_result"
    }
   ],
   "source": [
    "float(sy.N(3))"
   ]
  },
  {
   "cell_type": "code",
   "execution_count": 357,
   "metadata": {},
   "outputs": [
    {
     "ename": "IndexError",
     "evalue": "only integers, slices (`:`), ellipsis (`...`), numpy.newaxis (`None`) and integer or boolean arrays are valid indices",
     "output_type": "error",
     "traceback": [
      "\u001b[0;31m---------------------------------------------------------------------------\u001b[0m",
      "\u001b[0;31mIndexError\u001b[0m                                Traceback (most recent call last)",
      "\u001b[0;32m<ipython-input-357-913842a2e9fc>\u001b[0m in \u001b[0;36m<module>\u001b[0;34m\u001b[0m\n\u001b[1;32m      1\u001b[0m \u001b[0;32mfrom\u001b[0m \u001b[0msympy\u001b[0m\u001b[0;34m.\u001b[0m\u001b[0mutilities\u001b[0m\u001b[0;34m.\u001b[0m\u001b[0mlambdify\u001b[0m \u001b[0;32mimport\u001b[0m \u001b[0mlambdastr\u001b[0m\u001b[0;34m\u001b[0m\u001b[0;34m\u001b[0m\u001b[0m\n\u001b[0;32m----> 2\u001b[0;31m \u001b[0mlambdastr\u001b[0m\u001b[0;34m(\u001b[0m\u001b[0mx\u001b[0m\u001b[0;34m,\u001b[0m\u001b[0msy\u001b[0m\u001b[0;34m.\u001b[0m\u001b[0msummation\u001b[0m\u001b[0;34m(\u001b[0m\u001b[0mweights\u001b[0m\u001b[0;34m[\u001b[0m\u001b[0mD\u001b[0m\u001b[0;34m]\u001b[0m\u001b[0;34m*\u001b[0m\u001b[0msy\u001b[0m\u001b[0;34m.\u001b[0m\u001b[0msin\u001b[0m\u001b[0;34m(\u001b[0m\u001b[0mpoints\u001b[0m\u001b[0;34m[\u001b[0m\u001b[0mD\u001b[0m\u001b[0;34m]\u001b[0m\u001b[0;34m)\u001b[0m\u001b[0;34m,\u001b[0m\u001b[0;34m(\u001b[0m\u001b[0mD\u001b[0m\u001b[0;34m,\u001b[0m\u001b[0;36m0\u001b[0m\u001b[0;34m,\u001b[0m\u001b[0mlen\u001b[0m\u001b[0;34m(\u001b[0m\u001b[0mabscissas\u001b[0m\u001b[0;34m)\u001b[0m\u001b[0;34m)\u001b[0m\u001b[0;34m)\u001b[0m\u001b[0;34m)\u001b[0m\u001b[0;34m\u001b[0m\u001b[0;34m\u001b[0m\u001b[0m\n\u001b[0m",
      "\u001b[0;31mIndexError\u001b[0m: only integers, slices (`:`), ellipsis (`...`), numpy.newaxis (`None`) and integer or boolean arrays are valid indices"
     ]
    }
   ],
   "source": [
    "from sympy.utilities.lambdify import lambdastr\n",
    "lambdastr(x,sy.summation(weights[D]*sy.sin(points[D]),(D,0,len(abscissas))))"
   ]
  },
  {
   "cell_type": "code",
   "execution_count": null,
   "metadata": {},
   "outputs": [],
   "source": [
    "np.sum(weights*func(points))"
   ]
  },
  {
   "cell_type": "code",
   "execution_count": 356,
   "metadata": {},
   "outputs": [],
   "source": [
    "len(abscissas)"
   ]
  },
  {
   "cell_type": "code",
   "execution_count": 356,
   "metadata": {},
   "outputs": [
    {
     "data": {
      "image/png": "[encoded data removed]",
      "text/latex": [
       "$\\displaystyle 2$"
      ],
      "text/plain": [
       "2"
      ]
     },
     "execution_count": 356,
     "metadata": {},
     "output_type": "execute_result"
    }
   ],
   "source": [
    "sy.Function"
   ]
  },
  {
   "cell_type": "code",
   "execution_count": null,
   "metadata": {},
   "outputs": [],
   "source": [
    "class my_sum(sy.Function): \n",
    "     @classmethod\n",
    "#     def eval(cls, x):\n",
    "#          np.sum(weights*func(points))\n",
    "     def _eval_evalf(cls, prec):\n",
    "        x = self.args[0]\n",
    "    "
   ]
  },
  {
   "cell_type": "code",
   "execution_count": 70,
   "metadata": {},
   "outputs": [
    {
     "data": {
      "image/png": "[encoded data removed]",
      "text/latex": [
       "$\\displaystyle \\left[ {Q}_{0,0}, \\  {Q}_{0,1}, \\  {Q}_{0,2}, \\  {Q}_{0,3}, \\  {Q}_{0,4}, \\  {Q}_{0,5}, \\  {Q}_{1,0}, \\  {Q}_{1,1}, \\  {Q}_{1,2}, \\  {Q}_{1,3}, \\  {Q}_{1,4}, \\  {Q}_{1,5}, \\  {Q}_{2,0}, \\  {Q}_{2,1}, \\  {Q}_{2,2}, \\  {Q}_{2,3}, \\  {Q}_{2,4}, \\  {Q}_{2,5}, \\  {P}_{0,0}, \\  {P}_{0,1}, \\  {P}_{0,2}, \\  {P}_{0,3}, \\  {P}_{0,4}, \\  {P}_{0,5}, \\  {P}_{1,0}, \\  {P}_{1,1}, \\  {P}_{1,2}, \\  {P}_{1,3}, \\  {P}_{1,4}, \\  {P}_{1,5}, \\  {P}_{2,0}, \\  {P}_{2,1}, \\  {P}_{2,2}, \\  {P}_{2,3}, \\  {P}_{2,4}, \\  {P}_{2,5}\\right]$"
      ],
      "text/plain": [
       "[Q[0, 0], Q[0, 1], Q[0, 2], Q[0, 3], Q[0, 4], Q[0, 5], Q[1, 0], Q[1, 1], Q[1, \n",
       "2], Q[1, 3], Q[1, 4], Q[1, 5], Q[2, 0], Q[2, 1], Q[2, 2], Q[2, 3], Q[2, 4], Q[\n",
       "2, 5], P[0, 0], P[0, 1], P[0, 2], P[0, 3], P[0, 4], P[0, 5], P[1, 0], P[1, 1],\n",
       " P[1, 2], P[1, 3], P[1, 4], P[1, 5], P[2, 0], P[2, 1], P[2, 2], P[2, 3], P[2, \n",
       "4], P[2, 5]]"
      ]
     },
     "execution_count": 70,
     "metadata": {},
     "output_type": "execute_result"
    }
   ],
   "source": [
    "PCEvars_list"
   ]
  },
  {
   "cell_type": "code",
   "execution_count": 125,
   "metadata": {},
   "outputs": [],
   "source": [
    "init_cond_pce\n",
    "test_numeval = sy.lambdify([[xi0,xi1],PCEvars_list],deriv_array[0].evalf(), modules=[\"scipy\", \"numpy\"])"
   ]
  },
  {
   "cell_type": "code",
   "execution_count": 128,
   "metadata": {},
   "outputs": [
    {
     "data": {
      "image/png": "[encoded data removed]",
      "text/latex": [
       "$\\displaystyle -0.010101010101010105$"
      ],
      "text/plain": [
       "-0.010101010101010105"
      ]
     },
     "execution_count": 128,
     "metadata": {},
     "output_type": "execute_result"
    }
   ],
   "source": [
    "test_numeval_int = lambda y, weights, abscissas: np.sum(weights*test_numeval(abscissas,y))\n",
    "test_numeval_int(init_cond_pce, weights, abscissas)"
   ]
  },
  {
   "cell_type": "code",
   "execution_count": 358,
   "metadata": {},
   "outputs": [
    {
     "ename": "NameError",
     "evalue": "name 'func' is not defined",
     "output_type": "error",
     "traceback": [
      "\u001b[0;31m---------------------------------------------------------------------------\u001b[0m",
      "\u001b[0;31mNameError\u001b[0m                                 Traceback (most recent call last)",
      "\u001b[0;32m<ipython-input-358-be95e4b6fd92>\u001b[0m in \u001b[0;36m<module>\u001b[0;34m\u001b[0m\n\u001b[0;32m----> 1\u001b[0;31m \u001b[0mnp\u001b[0m\u001b[0;34m.\u001b[0m\u001b[0msum\u001b[0m\u001b[0;34m(\u001b[0m\u001b[0mweights\u001b[0m\u001b[0;34m*\u001b[0m\u001b[0mfunc\u001b[0m\u001b[0;34m(\u001b[0m\u001b[0mpoints\u001b[0m\u001b[0;34m)\u001b[0m\u001b[0;34m)\u001b[0m\u001b[0;34m\u001b[0m\u001b[0;34m\u001b[0m\u001b[0m\n\u001b[0m",
      "\u001b[0;31mNameError\u001b[0m: name 'func' is not defined"
     ]
    }
   ],
   "source": [
    "np.sum(weights*func(points))"
   ]
  },
  {
   "cell_type": "code",
   "execution_count": null,
   "metadata": {},
   "outputs": [],
   "source": [
    "f = implemented_function('f', lambda expr: np.sum(weights*func(points)))"
   ]
  },
  {
   "cell_type": "code",
   "execution_count": 72,
   "metadata": {},
   "outputs": [
    {
     "data": {
      "image/png": "[encoded data removed]",
      "text/latex": [
       "$\\displaystyle 4$"
      ],
      "text/plain": [
       "4"
      ]
     },
     "execution_count": 72,
     "metadata": {},
     "output_type": "execute_result"
    }
   ],
   "source": [
    "(lambda x: x**2)(2)"
   ]
  },
  {
   "cell_type": "code",
   "execution_count": 97,
   "metadata": {},
   "outputs": [],
   "source": [
    "[tt1, tt2] = abscissas\n"
   ]
  },
  {
   "cell_type": "code",
   "execution_count": 99,
   "metadata": {},
   "outputs": [],
   "source": [
    "#tt1"
   ]
  },
  {
   "cell_type": "code",
   "execution_count": 103,
   "metadata": {},
   "outputs": [
    {
     "data": {
      "image/png": "[encoded data removed]",
      "text/latex": [
       "$\\displaystyle s_{1}$"
      ],
      "text/plain": [
       "s₁"
      ]
     },
     "execution_count": 103,
     "metadata": {},
     "output_type": "execute_result"
    }
   ],
   "source": [
    "xi1"
   ]
  },
  {
   "cell_type": "code",
   "execution_count": null,
   "metadata": {},
   "outputs": [],
   "source": []
  }
 ],
 "metadata": {
  "kernelspec": {
   "display_name": "Python 3",
   "language": "python",
   "name": "python3"
  },
  "language_info": {
   "codemirror_mode": {
    "name": "ipython",
    "version": 3
   },
   "file_extension": ".py",
   "mimetype": "text/x-python",
   "name": "python",
   "nbconvert_exporter": "python",
   "pygments_lexer": "ipython3",
   "version": "3.7.7"
  }
 },
 "nbformat": 4,
 "nbformat_minor": 4
}
